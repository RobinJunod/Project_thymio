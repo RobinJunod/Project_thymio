{
 "cells": [
  {
   "cell_type": "markdown",
   "id": "b4271c40",
   "metadata": {},
   "source": [
    "<div style=\"text-align:center\"><span style=\"color:purple; font-family:helvetica; font-size:2.0em;\">Locomotion planning based on Divergent Component of Motion(DCM)</span></div>"
   ]
  },
  {
   "cell_type": "markdown",
   "id": "9bc1d376",
   "metadata": {},
   "source": [
    "Basics of mobile robotics main lou test\n"
   ]
  },
  {
   "cell_type": "markdown",
   "id": "1359e1fa",
   "metadata": {},
   "source": [
    "<div style=\"text-align:center\"><span style=\"color:black; font-family:helvetica; font-size:1.7em;\">Importing the required libraries</span></div>"
   ]
  },
  {
   "cell_type": "code",
   "execution_count": 2,
   "id": "b0df37d8",
   "metadata": {},
   "outputs": [
    {
     "ename": "ModuleNotFoundError",
     "evalue": "No module named 'tdmclient'",
     "output_type": "error",
     "traceback": [
      "\u001b[1;31m---------------------------------------------------------------------------\u001b[0m",
      "\u001b[1;31mModuleNotFoundError\u001b[0m                       Traceback (most recent call last)",
      "Cell \u001b[1;32mIn [2], line 8\u001b[0m\n\u001b[0;32m      5\u001b[0m \u001b[39mimport\u001b[39;00m \u001b[39mnumpy\u001b[39;00m \u001b[39mas\u001b[39;00m \u001b[39mnp\u001b[39;00m \u001b[39m# numpy library for matrix computations\u001b[39;00m\n\u001b[0;32m      7\u001b[0m \u001b[39mfrom\u001b[39;00m \u001b[39mfunction\u001b[39;00m\u001b[39m.\u001b[39;00m\u001b[39mMotionControl\u001b[39;00m \u001b[39mimport\u001b[39;00m MotionControl\n\u001b[1;32m----> 8\u001b[0m \u001b[39mfrom\u001b[39;00m \u001b[39mfunction\u001b[39;00m\u001b[39m.\u001b[39;00m\u001b[39mThymio\u001b[39;00m \u001b[39mimport\u001b[39;00m thymio\n\u001b[0;32m     11\u001b[0m \u001b[39mimport\u001b[39;00m \u001b[39mtdmclient\u001b[39;00m\u001b[39m.\u001b[39;00m\u001b[39mnotebook\u001b[39;00m\n\u001b[0;32m     12\u001b[0m \u001b[39mawait\u001b[39;00m tdmclient\u001b[39m.\u001b[39mnotebook\u001b[39m.\u001b[39mstart()\n",
      "File \u001b[1;32mc:\\Users\\loudb\\OneDrive\\Bureau\\Cours_EPFL\\Master\\Basics of mobile robotics\\Project_thymio\\function\\Thymio.py:6\u001b[0m\n\u001b[0;32m      2\u001b[0m \u001b[39mimport\u001b[39;00m \u001b[39mnumpy\u001b[39;00m \u001b[39mas\u001b[39;00m \u001b[39mnp\u001b[39;00m\n\u001b[0;32m      3\u001b[0m \u001b[39m#import pandas as pd\u001b[39;00m\n\u001b[1;32m----> 6\u001b[0m \u001b[39mfrom\u001b[39;00m \u001b[39mtdmclient\u001b[39;00m \u001b[39mimport\u001b[39;00m ClientAsync, aw\n\u001b[0;32m      7\u001b[0m \u001b[39mfrom\u001b[39;00m \u001b[39mtdmclient\u001b[39;00m\u001b[39m.\u001b[39;00m\u001b[39matranspiler\u001b[39;00m \u001b[39mimport\u001b[39;00m ATranspiler\n\u001b[0;32m      9\u001b[0m \u001b[39mimport\u001b[39;00m \u001b[39mtime\u001b[39;00m\n",
      "\u001b[1;31mModuleNotFoundError\u001b[0m: No module named 'tdmclient'"
     ]
    }
   ],
   "source": [
    "#In the following we import the classes that we need for simulation\n",
    "import time\n",
    "#import pybullet #pybullet simulator\n",
    "#import pybullet_data\n",
    "import numpy as np # numpy library for matrix computations\n",
    "\n",
    "from function import MotionControl\n",
    "from function.Thymio import thymio\n",
    "\n",
    "\n",
    "import tdmclient.notebook\n",
    "await tdmclient.notebook.start()"
   ]
  },
  {
   "cell_type": "code",
   "execution_count": null,
   "id": "518a964f",
   "metadata": {},
   "outputs": [],
   "source": [
    "%%run_python\n",
    "\n",
    "\n",
    "timer_period[0] = 500 # milliseconds\n",
    "\n",
    "\n",
    "\n",
    "@onevent \n",
    "def timer0():\n",
    "    global motor_left_target, motor_right_target\n",
    "    self.PID()\n",
    "    self.Plant()\n",
    "    self.IntegrationVitesse()\n",
    "    diff = prox_ground_delta[1] - prox_ground_delta[0]\n",
    "    motor_left_target = \n",
    "    motor_right_target = "
   ]
  },
  {
   "cell_type": "markdown",
   "id": "20202865",
   "metadata": {},
   "source": [
    "<div style=\"text-align:center\"><span style=\"color:black; font-family:helvetica; font-size:1.7em;\">Preparing Pybullet environment</span></div>"
   ]
  },
  {
   "cell_type": "code",
   "execution_count": null,
   "id": "7a69d99b",
   "metadata": {},
   "outputs": [],
   "source": []
  },
  {
   "cell_type": "markdown",
   "id": "1161c603",
   "metadata": {},
   "source": [
    "<div style=\"text-align:center\"><span style=\"color:black; font-family:helvetica; font-size:1.7em;\">Planning Feet Trajectories</span></div>"
   ]
  },
  {
   "cell_type": "code",
   "execution_count": null,
   "id": "8a7bb029",
   "metadata": {},
   "outputs": [],
   "source": []
  },
  {
   "cell_type": "markdown",
   "id": "bcebf94c",
   "metadata": {},
   "source": [
    "<div style=\"text-align:center\"><span style=\"color:black; font-family:helvetica; font-size:1.7em;\">Plot Feet Trajectories</span></div>"
   ]
  },
  {
   "cell_type": "code",
   "execution_count": null,
   "id": "ac5bfaa6",
   "metadata": {},
   "outputs": [],
   "source": [
    "       "
   ]
  },
  {
   "cell_type": "markdown",
   "id": "5bf483f4",
   "metadata": {},
   "source": [
    "<div style=\"text-align:center\"><span style=\"color:black; font-family:helvetica; font-size:1.7em;\"Locomotion Planning based on DCM</span></div>"
   ]
  },
  {
   "cell_type": "markdown",
   "id": "2cda8102",
   "metadata": {},
   "source": [
    "<div style=\"text-align:center\"><span style=\"color:black; font-family:helvetica; font-size:1.7em;\">DCM and CoM Motion Planning</span></div>"
   ]
  },
  {
   "cell_type": "markdown",
   "id": "d4a869bd",
   "metadata": {},
   "source": [
    "<div style=\"text-align:center\"><span style=\"color:black; font-family:helvetica; font-size:1.7em;\">Implementation of Planning DCM and CoM Trajectories</span></div>"
   ]
  },
  {
   "cell_type": "code",
   "execution_count": null,
   "id": "d77f3d14",
   "metadata": {
    "scrolled": true
   },
   "outputs": [],
   "source": []
  },
  {
   "cell_type": "markdown",
   "id": "e096a672",
   "metadata": {},
   "source": [
    "<div style=\"text-align:center\"><span style=\"color:black; font-family:helvetica; font-size:1.7em;\">Plot DCM and CoM Trajectories</span></div>"
   ]
  },
  {
   "cell_type": "code",
   "execution_count": null,
   "id": "234220d0",
   "metadata": {},
   "outputs": [],
   "source": [
    "\n",
    " "
   ]
  },
  {
   "cell_type": "markdown",
   "id": "72be2970",
   "metadata": {},
   "source": [
    "<div style=\"text-align:center\"><span style=\"color:black; font-family:helvetica; font-size:1.7em;\">Implementing Trajectories on the Robot</span></div>\n"
   ]
  },
  {
   "cell_type": "code",
   "execution_count": null,
   "id": "cd3cb3d2",
   "metadata": {},
   "outputs": [],
   "source": []
  },
  {
   "cell_type": "code",
   "execution_count": null,
   "id": "e2ec0296",
   "metadata": {},
   "outputs": [],
   "source": []
  },
  {
   "cell_type": "markdown",
   "id": "41fda616",
   "metadata": {},
   "source": [
    "Questions:\n",
    "\n",
    "1-Based on equation (5), which physical parameters will affect the rate of divergence of the DCM dynamics?\n",
    "\n",
    "2-In the DCM motion planning, how do we guarantee dynamic balancing conditions?\n",
    "\n",
    "3-If we do have dynamic balancing guarantees, why is the robot not able to walk without parameter tuning?\n",
    "\n",
    "4-In order to achieve stable locomotion, which parameters did you tune and what are their values?\n",
    "\n",
    "5-Please calculate and plot the real ZMP(CoP) using contact force from pybullet during locomotion.\n",
    "\n",
    "6-Please tune the step position and duration in the \"Planning Feet Trajectories\" section or any other parameters to achieve faster locomotion. What is the fastest walking speed you can achieve and what are the corresponding parameters?\n",
    "\n",
    "7-Let's assume we would like to have robot walking on the surface of the moon, by considering the gravity condition of the moon, what's the fastest walking speed that you can achieve and what are the corresponding parameters? \n",
    "\n",
    "8-Do we considered double support during DCM planning? What could be the effect of considering double support\n",
    "for DCM planning?"
   ]
  },
  {
   "cell_type": "code",
   "execution_count": null,
   "id": "945aae14",
   "metadata": {},
   "outputs": [],
   "source": []
  },
  {
   "cell_type": "code",
   "execution_count": null,
   "id": "6a90b23a",
   "metadata": {},
   "outputs": [],
   "source": []
  },
  {
   "cell_type": "code",
   "execution_count": null,
   "id": "9317a47f",
   "metadata": {},
   "outputs": [],
   "source": []
  },
  {
   "cell_type": "code",
   "execution_count": null,
   "id": "caf9556d",
   "metadata": {},
   "outputs": [],
   "source": []
  },
  {
   "cell_type": "code",
   "execution_count": null,
   "id": "a56f9b67",
   "metadata": {},
   "outputs": [],
   "source": []
  },
  {
   "cell_type": "code",
   "execution_count": null,
   "id": "279eec40",
   "metadata": {},
   "outputs": [],
   "source": []
  },
  {
   "cell_type": "code",
   "execution_count": null,
   "id": "53a8bcb7",
   "metadata": {},
   "outputs": [],
   "source": []
  },
  {
   "cell_type": "code",
   "execution_count": null,
   "id": "541b341f",
   "metadata": {},
   "outputs": [],
   "source": []
  },
  {
   "cell_type": "code",
   "execution_count": null,
   "id": "2348890e",
   "metadata": {},
   "outputs": [],
   "source": []
  },
  {
   "cell_type": "code",
   "execution_count": null,
   "id": "201f07d4",
   "metadata": {},
   "outputs": [],
   "source": []
  }
 ],
 "metadata": {
  "kernelspec": {
   "display_name": "Python 3.9.0 ('leg_env')",
   "language": "python",
   "name": "python3"
  },
  "language_info": {
   "codemirror_mode": {
    "name": "ipython",
    "version": 3
   },
   "file_extension": ".py",
   "mimetype": "text/x-python",
   "name": "python",
   "nbconvert_exporter": "python",
   "pygments_lexer": "ipython3",
   "version": "3.9.0"
  },
  "vscode": {
   "interpreter": {
    "hash": "3f27f9e97c54d1244c50556f4358106254c28bd785624950e34d168bc23e44c0"
   }
  }
 },
 "nbformat": 4,
 "nbformat_minor": 5
}
