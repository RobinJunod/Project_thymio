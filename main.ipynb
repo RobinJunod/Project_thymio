{
 "cells": [
  {
   "cell_type": "markdown",
   "metadata": {},
   "source": [
    "# BASICS OF MOBILE ROBOTICS\n",
    "## BOMR Project\n",
    "\n",
    "This project was made by the Group 31, made up of the following people:\n",
    "\n",
    "### Axel Béguelin, Lou De Bel-Air, Robin Carlet, Robin Junod.\n",
    "\n",
    "For this project of mobile robotics, we were asked to use a ThymioII robot, a camera and our project had to use the following concepts:\n",
    "\n",
    "- Vision\n",
    "- Global Navigation\n",
    "- Motion Control\n",
    "- Filtering\n",
    "- Local Navigation\n",
    "\n",
    "Just a quick resume of the robot. Thymio II is an educational robot in the 100 Euros price range. The robot was developed at the EPFL in collaboration with ECAL, both in Lausanne, Switzerland (wiki source). This robot has the following features:\n",
    "\n",
    "- 2 DC-motors (and 2 Wheels)\n",
    "- 39 leds\n",
    "- 1 loud speaker\n",
    "\n",
    "and has the following sensor:\n",
    "- 9 infrared (IR) proximity sensors (reach about 10cm)\n",
    "- 5 capacitive touch buttons\n",
    "- 1 three-axis accelerometer\n",
    "- 1 thermometer\n",
    "- 1 microphone (recording or detection of noise)\n",
    "- 1 IR receiver (for remote controller)\n",
    "- 1 Wireless module"
   ]
  },
  {
   "cell_type": "markdown",
   "metadata": {},
   "source": [
    "![SNOWFALL](img_presentation/img_thymio.png)"
   ]
  },
  {
   "cell_type": "markdown",
   "metadata": {},
   "source": [
    "# Introduction of our project"
   ]
  },
  {
   "cell_type": "markdown",
   "metadata": {},
   "source": [
    "We decided to choose the follwing project with the following setup. The goal of the thymio is to go from any position on a map to an objective."
   ]
  },
  {
   "cell_type": "markdown",
   "metadata": {},
   "source": [
    "## MOTION CONTROL\n",
    "\n",
    "For the motion control, we used a PID controller that was used to smooth the robot trajectory. This PID controller is working on the angle error between the direction of the robot and the goal direction. A PI controller would have been probabely sufficiant but we decided to use a PID to have more freedom for the tuning.\n",
    "\n",
    "This PID controller is comparing the angle error and give as output a 'rotation' delta speed. This rotation speed will then be add/substated to the left and right motor speed. To have something has bellow:\n",
    "<div>\n",
    "<img src=\"img_presentation/pid_resume.png\" width=\"300\"/>\n",
    "</div>\n",
    "\n",
    "For the computation of the angle error, we need the follwing information:\n",
    "- robot position\n",
    "- angle of the robot\n",
    "- goal position\n",
    "\n",
    "We represent the postion in the classical cartesian coordinates (x,y). The angle of the thymio(alpha) and the angle of the goal(alpha_goal) as 'absolut angle'. The vector (1,0) has the angle 0 (the vector (0,1) as the angle pi/2 etc...). The angle is negative in clockwise direction. The angle error is always represented in the range : [-pi , pi], This way, the PID controller is easy to implement. The image below is presenting the general idea of the PID implementation:\n",
    "\n",
    "<div>\n",
    "<img src=\"img_presentation/PID_details.png\" width=\"500\"/>\n",
    "</div>\n",
    "\n",
    "The motion control part is made in a class of .py file. For further information, go look at the script: functiion.MotionControl.py."
   ]
  },
  {
   "cell_type": "code",
   "execution_count": 1,
   "metadata": {},
   "outputs": [],
   "source": [
    "import function.MotionControl as MotionControl\n",
    "import matplotlib.pyplot as plt\n",
    "import math"
   ]
  },
  {
   "cell_type": "code",
   "execution_count": 2,
   "metadata": {},
   "outputs": [
    {
     "data": {
      "text/plain": [
       "<matplotlib.legend.Legend at 0x1af52b82250>"
      ]
     },
     "execution_count": 2,
     "metadata": {},
     "output_type": "execute_result"
    },
    {
     "data": {
      "image/png": "[encoded data removed]",
      "text/plain": [
       "<Figure size 640x480 with 1 Axes>"
      ]
     },
     "metadata": {},
     "output_type": "display_data"
    }
   ],
   "source": [
    "# Here is an exemple trajectory of the implemetation of the PID without the filtered feedback about the position and angle.\n",
    "# For this exemple, we take only the \n",
    "\n",
    "goals_list = [(1000,1000), (2600,1000),(2800,2800)]\n",
    "n_goal = 0\n",
    "goal_pos = list(goals_list[n_goal])\n",
    "\n",
    "init_robot_angle = -4\n",
    "robot_speed = [100,100]\n",
    "robot_angle = -4\n",
    "robot_pos = [0,0]\n",
    "\n",
    "d_time = 3\n",
    "thymio_trajectory = []\n",
    "\n",
    "# Create PID controller\n",
    "PID = MotionControl.MotionControl()\n",
    "PID.update_angle_error(robot_angle, robot_pos, goals_list[n_goal])\n",
    "# loop\n",
    "loop = 0\n",
    "while True:\n",
    "    loop += 1\n",
    "    goal_achieved = False\n",
    "    # compute error\n",
    "    PID.update_angle_error(robot_angle, robot_pos, goal_pos)\n",
    "    # compute PID speed\n",
    "    [robot_speed[0], robot_speed[1]] = PID.PID(d_time, 100, 100)\n",
    "    # set speed and get new position and angle value\n",
    "    [robot_pos[0], robot_pos[1], robot_angle] = PID.plant(robot_speed[0], robot_speed[1], robot_pos[0], robot_pos[1], robot_angle, d_time)\n",
    "    thymio_trajectory.append((robot_pos[0], robot_pos[1]))\n",
    "    \n",
    "    # Check proximity\n",
    "    manathan_dist_to_goal = abs(goal_pos[1]-robot_pos[1]) + abs(goal_pos[0]-robot_pos[0])\n",
    "    if manathan_dist_to_goal < 200 or loop > 300:\n",
    "        n_goal += 1\n",
    "        if n_goal < len(goals_list):\n",
    "            goal_pos = list(goals_list[n_goal])\n",
    "            # reset integral value\n",
    "            PID.PID_integral = 0\n",
    "        else:\n",
    "            break\n",
    "\n",
    "# plot trajectorie\n",
    "plt.scatter(*zip(*thymio_trajectory), label='traj')\n",
    "# Plot objective 'path'\n",
    "# Plot objective 'path'\n",
    "plt.plot([0,goals_list[0][0]], [0,goals_list[0][1]], color = 'red', linestyle = 'solid', label='path')\n",
    "\n",
    "plt.plot([goals_list[0][0],goals_list[1][0]], [goals_list[0][1],goals_list[1][1]], color = 'red', linestyle = 'solid', label=None)\n",
    "plt.plot([goals_list[1][0],goals_list[2][0]], [goals_list[1][1],goals_list[2][1]], color = 'red', linestyle = 'solid', label=None)\n",
    "\n",
    "plt.plot([0,300*math.cos(init_robot_angle)], [0, 300 * math.sin(init_robot_angle)], color = 'green', label='angle')\n",
    "\n",
    "\n",
    "plt.legend()\n",
    "\n",
    "#plt.title('Thymio PID direction')"
   ]
  },
  {
   "attachments": {},
   "cell_type": "markdown",
   "metadata": {},
   "source": [
    "# Threading and code organisation\n",
    "\n",
    "We decided to use a threads for the data aquisition of the thymio. In this way we don't need to wait on the thymio for the information on the thymio speed and the sensors. Thoses computation can be done in parallel so we can compute simultaneously the vison/motioncontrol. \n",
    "\n",
    "The two threads we created are the following ones:\n",
    "- thread_update_odometry \n",
    "- thread_get_sensor\n",
    "\n",
    "The odomerty threads takes the values of the motors speed and compute the relative position/angle of the thymo. It then returns the results in the globa variables ODOMERTY. In this way, this Global variable will be updated and can be reused in other threads for other computation.\n",
    "\n",
    "The get sensor thread is a simplier threads that only read the sensor values and returns it also in a global varaible (PROX_SENSOR). \n",
    "\n",
    "In that way we have 2 global variables that are updated and accecible at anytime.\n",
    "\n",
    "We decided to use threads, because the reading variables for the sensor can take up to 100ms. If we had a all in a simple loop, this would make the whole programm wait for those sensor values.\n",
    "The main thread is the loop in the main file. In this part we are computing the follwing parts: visualisation, filtering and the controller.\n",
    "\n",
    "\n",
    "<div>\n",
    "<img src=\"img_presentation/threads_.png\" width=\"500\"/>\n",
    "</div>\n"
   ]
  },
  {
   "attachments": {},
   "cell_type": "markdown",
   "metadata": {},
   "source": [
    "# Odomerty\n",
    "\n",
    "As said before, we are computing the updating the odomerty in a threads and the result is saved into a gloval variable. Another thing to notice is that this global variable ODOMERTY is also update after the filtering. This means that this ODOMERTY variable doesn't rely only on the motor speed but is also modified by the vision. With this techinique the error of the odomerty is not incresing across time (it is when the odomertry is running on its own but is adjusted as soon as it goes into the filtering).\n",
    "\n",
    "Now let's look the thread update odomerty into details. The goal here is to estimated the postition of the robot knowing the speed of the right and left motors. For this we made the follwing computation and hypothesis:\n",
    "\n",
    "<div>\n",
    "<img src=\"img_presentation/odometry.png\" width=\"800\"/>\n",
    "</div>\n",
    "\n",
    "This "
   ]
  }
 ],
 "metadata": {
  "kernelspec": {
   "display_name": "Python 3 (ipykernel)",
   "language": "python",
   "name": "python3"
  },
  "language_info": {
   "codemirror_mode": {
    "name": "ipython",
    "version": 3
   },
   "file_extension": ".py",
   "mimetype": "text/x-python",
   "name": "python",
   "nbconvert_exporter": "python",
   "pygments_lexer": "ipython3",
   "version": "3.8.13"
  },
  "vscode": {
   "interpreter": {
    "hash": "fcb6c75713917bbeb6c7e52097ffadadbac73d1b7694c3ec4fe4848cb90a5430"
   }
  }
 },
 "nbformat": 4,
 "nbformat_minor": 2
}
