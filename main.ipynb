{
 "cells": [
  {
   "cell_type": "markdown",
   "metadata": {},
   "source": [
    "# BASICS OF MOBILE ROBOTICS\n",
    "## BOMR Project\n",
    "\n",
    "This project was made by the Group 31, made up of the following people:\n",
    "\n",
    "### Axel Béguelin, Lou De Bel-Air, Robin Carlet, Robin Junod.\n",
    "\n",
    "For this project of mobile robotics, we were asked to use a ThymioII robot, a camera and our project had to use the following concepts:\n",
    "\n",
    "- Vision\n",
    "- Global Navigation\n",
    "- Motion Control\n",
    "- Filtering\n",
    "- Local Navigation\n",
    "\n",
    "Just a quick resume of the robot. Thymio II is an educational robot in the 100 Euros price range. The robot was developed at the EPFL in collaboration with ECAL, both in Lausanne, Switzerland (wiki source). This robot has the following features:\n",
    "\n",
    "- 2 DC-motors (and 2 Wheels)\n",
    "- 39 leds\n",
    "- 1 loud speaker\n",
    "\n",
    "and has the following sensor:\n",
    "- 9 infrared (IR) proximity sensors (reach about 10cm)\n",
    "- 5 capacitive touch buttons\n",
    "- 1 three-axis accelerometer\n",
    "- 1 thermometer\n",
    "- 1 microphone (recording or detection of noise)\n",
    "- 1 IR receiver (for remote controller)\n",
    "- 1 Wireless module"
   ]
  },
  {
   "cell_type": "markdown",
   "metadata": {},
   "source": [
    "![SNOWFALL](img_presentation/img_thymio.png)"
   ]
  },
  {
   "cell_type": "markdown",
   "metadata": {},
   "source": [
    "# Introduction of our project"
   ]
  },
  {
   "cell_type": "markdown",
   "metadata": {},
   "source": [
    "The goal is that the Thymio can go from any position on a map to an objective. \n",
    "We decided to approch this project with the following setup. \n",
    "<div>\n",
    "<img src=\"img_presentation/Setup.jpeg\" width=\"300\"/>\n",
    "</div>\n",
    "\n",
    "A camera above the setup is used to visualize the map on the computer. It identifies the Thymio, the obstacles and the goal. \n",
    "Then the global navigation computes the shortest path to the goal, and the motion control set the speeds of the motors to follow it.\n",
    "To have a more accurate trajectory and to counter incertitudes, there is feedback on the position of the robot, which will pass through a bayesian filter.\n",
    "The emplacement of the obstacles, the goal and the initial position of the Thymio can be modified before running the code.\n",
    "Even if new obstacles are added on the setup after the execution of the code, the robot is able to attain the goal by evitating them using local navigation. We also want the robot to reach the goal even if it is \"kidnapped\".\n",
    "\n",
    "To make the different objects easier to identify by the computer vision we used different colors and forms. The goal (red) and the obstacles (blue) for the global navigation are in two dimensions. The two green dots on the Thymio allows to know its angle as well as its position on the map.\n",
    "\n",
    "The obstacles for local navigation are in three dimensions, such that they can be detected by the horizontal proximity sensors.\n"
   ]
  },
  {
   "cell_type": "markdown",
   "metadata": {},
   "source": [
    "# Vision\n",
    "A webcam, looking at the map from the top, is used to create a map of the environment and to localize the Thymio. The vision is used first to initialize the map (localize each obstacles, the goal, as well as the position of the thymio on the map) and consecutively to localize the thymio during its run to allow for filtering of its metrics. \n",
    "## Method\n",
    "Each modules are demonstrated on a saved image taken by the webcam. The picture can be loaded and displayed by running the code here under and will be then used in each sub-section."
   ]
  },
  {
   "cell_type": "code",
   "execution_count": 13,
   "metadata": {},
   "outputs": [
    {
     "ename": "ModuleNotFoundError",
     "evalue": "No module named 'cv2'",
     "output_type": "error",
     "traceback": [
      "\u001b[1;31m---------------------------------------------------------------------------\u001b[0m",
      "\u001b[1;31mModuleNotFoundError\u001b[0m                       Traceback (most recent call last)",
      "Cell \u001b[1;32mIn [13], line 1\u001b[0m\n\u001b[1;32m----> 1\u001b[0m \u001b[39mimport\u001b[39;00m \u001b[39mfunction\u001b[39;00m\u001b[39m.\u001b[39;00m\u001b[39mvision\u001b[39;00m \u001b[39mas\u001b[39;00m \u001b[39mvision\u001b[39;00m\n\u001b[0;32m      2\u001b[0m \u001b[39mimport\u001b[39;00m \u001b[39mcv2\u001b[39;00m\n\u001b[0;32m      3\u001b[0m \u001b[39mimport\u001b[39;00m \u001b[39mnumpy\u001b[39;00m \u001b[39mas\u001b[39;00m \u001b[39mnp\u001b[39;00m\n",
      "File \u001b[1;32mc:\\Users\\robin\\OneDrive\\Documents\\GitHub\\Project_thymio\\function\\vision.py:1\u001b[0m\n\u001b[1;32m----> 1\u001b[0m \u001b[39mimport\u001b[39;00m \u001b[39mcv2\u001b[39;00m\n\u001b[0;32m      2\u001b[0m \u001b[39mimport\u001b[39;00m \u001b[39mnumpy\u001b[39;00m \u001b[39mas\u001b[39;00m \u001b[39mnp\u001b[39;00m\n\u001b[0;32m      3\u001b[0m \u001b[39mimport\u001b[39;00m \u001b[39mmath\u001b[39;00m \u001b[39mas\u001b[39;00m \u001b[39mm\u001b[39;00m\n",
      "\u001b[1;31mModuleNotFoundError\u001b[0m: No module named 'cv2'"
     ]
    }
   ],
   "source": [
    "import function.vision as vision\n",
    "import cv2\n",
    "import numpy as np\n",
    "import math as m\n",
    "#%matplotlib notebook \n",
    "import matplotlib.pyplot as plt\n",
    "\n",
    "#%matplotlib notebook\n",
    "img_name = 'img_presentation/Calibration_1012_1.png'\n",
    "img = cv2.imread(img_name, cv2.IMREAD_COLOR)\n",
    "plt.figure()\n",
    "plt.imshow(img[:,:,::-1])\n",
    "plt.title('Raw picture of the map')"
   ]
  },
  {
   "cell_type": "markdown",
   "metadata": {},
   "source": [
    "Since the picture taken by the webcam are distorded due to the perspective, every time that the webcam take a picture, the first step consists to rectify and crop the image before finding the position of the elements. To do so, a color filter is first applied on the image in order to amplify the difference between the yellow frame and the black ground. The image is then filtered using a bilateral filter to remove noise and finally thresholding is applied. The function findContours from open CV is then used to extract the borders of the map, followed by approxPolyDP which gives the corners. The perspective transformation can be then performed. The rectified map is generated when runnning the next cell.  \n",
    " "
   ]
  },
  {
   "cell_type": "code",
   "execution_count": 4,
   "metadata": {},
   "outputs": [
    {
     "ename": "NameError",
     "evalue": "name 'vision' is not defined",
     "output_type": "error",
     "traceback": [
      "\u001b[1;31m---------------------------------------------------------------------------\u001b[0m",
      "\u001b[1;31mNameError\u001b[0m                                 Traceback (most recent call last)",
      "Cell \u001b[1;32mIn [4], line 2\u001b[0m\n\u001b[0;32m      1\u001b[0m \u001b[39m# Map tranform function\u001b[39;00m\n\u001b[1;32m----> 2\u001b[0m hsv, mask, field \u001b[39m=\u001b[39m vision\u001b[39m.\u001b[39mcolorFilter(img, vision\u001b[39m.\u001b[39mYELLOW_L, vision\u001b[39m.\u001b[39mYELLOW_H)\n\u001b[0;32m      4\u001b[0m field_gray \u001b[39m=\u001b[39m cv2\u001b[39m.\u001b[39mcvtColor(field, cv2\u001b[39m.\u001b[39mCOLOR_BGR2GRAY)\n\u001b[0;32m      5\u001b[0m \u001b[39m# noise\u001b[39;00m\n",
      "\u001b[1;31mNameError\u001b[0m: name 'vision' is not defined"
     ]
    }
   ],
   "source": [
    "# Map tranform function\n",
    "hsv, mask, field = vision.colorFilter(img, vision.YELLOW_L, vision.YELLOW_H)\n",
    "\n",
    "field_gray = cv2.cvtColor(field, cv2.COLOR_BGR2GRAY)\n",
    "# noise\n",
    "filtered_img = cv2.bilateralFilter(field_gray,3,75,75)\n",
    "# binary\n",
    "binary_img = cv2.threshold(filtered_img, 20, 255, cv2.THRESH_BINARY_INV)[1]\n",
    "\n",
    "# find contours of MAP\n",
    "contours, _ = cv2.findContours(binary_img.astype(np.uint8), cv2.RETR_TREE, cv2.CHAIN_APPROX_SIMPLE)\n",
    "approx_cont = []\n",
    "\n",
    "for cnt in contours:\n",
    "    approx = cv2.approxPolyDP(cnt, 0.03*cv2.arcLength(cnt, True), True)\n",
    "    area = cv2.contourArea(approx)\n",
    "    # Criteria on the area to get only the external frame and not the obstacle or thymio if color filter did not work fine\n",
    "    if (binary_img.shape[0]*binary_img.shape[1]/2 < area < binary_img.shape[0]*binary_img.shape[1]):\n",
    "        approx_cont.append(approx.reshape(-1, 2))          \n",
    "\n",
    "# Correction of the perspective\n",
    "# First find the corners and figure out which one is which (top left / top right etc.)\n",
    "corners_tmp = approx_cont[0]\n",
    "corners_sorted = corners_tmp[corners_tmp[:, 1].argsort()]\n",
    "corners_top = corners_sorted[0:2,:]\n",
    "C_top_left = corners_top[corners_top[:, 0].argsort()][0,:]\n",
    "C_top_right = corners_top[corners_top[:, 0].argsort()][1,:]\n",
    "corners_bot = corners_sorted[2:,:]\n",
    "C_bot_left = corners_bot[corners_bot[:, 0].argsort()][0,:]\n",
    "C_bot_right = corners_bot[corners_bot[:, 0].argsort()][1,:]\n",
    "pts1 = np.float32([C_top_left, C_bot_left, C_bot_right, C_top_right])\n",
    "#Target Points\n",
    "t1 = pts1[0,0] #corner top left\n",
    "t2 = pts1[0,1]\n",
    "r1 = pts1[3,0] #corner top right\n",
    "r2 = pts1[3,1]\n",
    "b1 = pts1[2,0] #corner bottom right\n",
    "b2 = pts1[2,1]\n",
    "width = m.floor(m.sqrt((r1 - t1) ** 2 + (r2 - t2) ** 2))\n",
    "height = m.floor(m.sqrt((b1 - r1) ** 2 + (b2 - r2) ** 2))\n",
    "pts2 = np.float32([[0, 0], [0, height], [width, height], [width, 0]])\n",
    "M = cv2.getPerspectiveTransform(pts1.astype(np.float32), pts2)\n",
    "dst = cv2.warpPerspective(img, M, (width, height))\n",
    "\n",
    "## Rescaling image (between width and height)\n",
    "recMap = dst[0:height, 0:width]\n",
    "## Plot\n",
    "fig, (ax1, ax2, ax3) = plt.subplots(1,3, figsize = (15,8))\n",
    "ax1.imshow(filtered_img, cmap='gray')\n",
    "ax2.imshow(binary_img, cmap='gray')\n",
    "ax3.imshow(recMap[:,:,::-1])\n",
    "ax1.set_title('Color filtered image')\n",
    "ax2.set_title('Binarized image with edge detected')\n",
    "ax3.set_title('Rectified image')\n",
    "for edge in approx_cont[0]:\n",
    "    circle = plt.Circle(edge, 20, color='r', fill=False, linewidth=3)\n",
    "    ax2.add_patch(circle)"
   ]
  },
  {
   "cell_type": "markdown",
   "metadata": {},
   "source": [
    "Since the webcam always take picture from the same perspective, the output parameters \"M\", \"width\" and \"height\" of the mapTransform function are later used when the Thymio is running to rectify the map without having to find the corners of the map again. The width is also used to compute the pixel to millimeter ratio, which is used in the motion control and in the global navigation. \n",
    "Finally, to get rid of the small imperfections at the edges of the image and as a \"safety factor\" for the path planning, the map is cropped by 10 pixels on each sides:"
   ]
  },
  {
   "cell_type": "code",
   "execution_count": 5,
   "metadata": {},
   "outputs": [
    {
     "ename": "NameError",
     "evalue": "name 'vision' is not defined",
     "output_type": "error",
     "traceback": [
      "\u001b[1;31m---------------------------------------------------------------------------\u001b[0m",
      "\u001b[1;31mNameError\u001b[0m                                 Traceback (most recent call last)",
      "Cell \u001b[1;32mIn [5], line 1\u001b[0m\n\u001b[1;32m----> 1\u001b[0m vision\u001b[39m.\u001b[39mmm2pixRatio(recMap)\n\u001b[0;32m      2\u001b[0m rescMap \u001b[39m=\u001b[39m vision\u001b[39m.\u001b[39mrescale_borders(recMap)\n\u001b[0;32m      3\u001b[0m plt\u001b[39m.\u001b[39mfigure()\n",
      "\u001b[1;31mNameError\u001b[0m: name 'vision' is not defined"
     ]
    }
   ],
   "source": [
    "vision.mm2pixRatio(recMap)\n",
    "rescMap = vision.rescale_borders(recMap)\n",
    "plt.figure()\n",
    "plt.imshow(rescMap[:,:,::-1])\n",
    "plt.title('Rectified picture of the map')"
   ]
  },
  {
   "cell_type": "markdown",
   "metadata": {},
   "source": [
    "The map is now ready for the localization of the goal, the obstacles and the thymio.\n",
    "In order to simplify the localization of each elements of the map, it was decided to assign them different colors:\n",
    "- Thymio : Green\n",
    "- Obstacles : Blue\n",
    "- Goal : Red\n",
    "For each element, the first step is to isolate it from the other through color filtering using the cv2.InRange(image,Threshold) function on an HSV image of the map. In order to find the right threshold for each color, a tool from: https://stackoverflow.com/questions/57469394/opencv-choosing-hsv-thresholds-for-color-filtering was used. The code below shows the color filtering process on the image that was used to find the threshold. Small pieces of green, blue and red papers were placed on the map at different location and the threshold were found using the pre-mentionned tool. It was important to not only place one piece of paper in the middle of the map because of the lightening condition which can vary througout the map and lead to different thresholds depending on the location."
   ]
  },
  {
   "cell_type": "code",
   "execution_count": 6,
   "metadata": {},
   "outputs": [
    {
     "ename": "NameError",
     "evalue": "name 'cv2' is not defined",
     "output_type": "error",
     "traceback": [
      "\u001b[1;31m---------------------------------------------------------------------------\u001b[0m",
      "\u001b[1;31mNameError\u001b[0m                                 Traceback (most recent call last)",
      "Cell \u001b[1;32mIn [6], line 2\u001b[0m\n\u001b[0;32m      1\u001b[0m img_name \u001b[39m=\u001b[39m \u001b[39m'\u001b[39m\u001b[39mimg_presentation/Calibration_Colors.png\u001b[39m\u001b[39m'\u001b[39m\n\u001b[1;32m----> 2\u001b[0m img_color \u001b[39m=\u001b[39m cv2\u001b[39m.\u001b[39mimread(img_name, cv2\u001b[39m.\u001b[39mIMREAD_COLOR)\n\u001b[0;32m      3\u001b[0m _, _, red \u001b[39m=\u001b[39m vision\u001b[39m.\u001b[39mcolorFilter(img_color,vision\u001b[39m.\u001b[39mRED_L, vision\u001b[39m.\u001b[39mRED_H)\n\u001b[0;32m      4\u001b[0m _, _, blue \u001b[39m=\u001b[39m vision\u001b[39m.\u001b[39mcolorFilter(img_color,vision\u001b[39m.\u001b[39mBLUE_L, vision\u001b[39m.\u001b[39mBLUE_H)\n",
      "\u001b[1;31mNameError\u001b[0m: name 'cv2' is not defined"
     ]
    }
   ],
   "source": [
    "img_name = 'img_presentation/Calibration_Colors.png'\n",
    "img_color = cv2.imread(img_name, cv2.IMREAD_COLOR)\n",
    "_, _, red = vision.colorFilter(img_color,vision.RED_L, vision.RED_H)\n",
    "_, _, blue = vision.colorFilter(img_color,vision.BLUE_L, vision.BLUE_H)\n",
    "_, _, green = vision.colorFilter(img_color,vision.GREEN_L, vision.GREEN_H)\n",
    "\n",
    "fig, ((ax1, ax2),(ax3,ax4)) = plt.subplots(2,2, figsize = (8,8))\n",
    "ax1.imshow(img_color[:,:,::-1])\n",
    "ax2.imshow(red[:,:,::-1])\n",
    "ax3.imshow(blue[:,:,::-1])\n",
    "ax4.imshow(green[:,:,::-1])"
   ]
  },
  {
   "cell_type": "markdown",
   "metadata": {},
   "source": [
    "The different techniques used for extracting the coordinates of each elements on the map are presented in the next sub-chapter.\n",
    "### Find goal coordinates\n",
    "After red filtering of the rescaled map, the image is binarized and the goal is found using the function moments from openCV. This allows to easily find the center of the red rectangle, as shown when running the next cell."
   ]
  },
  {
   "cell_type": "code",
   "execution_count": 7,
   "metadata": {},
   "outputs": [
    {
     "ename": "NameError",
     "evalue": "name 'vision' is not defined",
     "output_type": "error",
     "traceback": [
      "\u001b[1;31m---------------------------------------------------------------------------\u001b[0m",
      "\u001b[1;31mNameError\u001b[0m                                 Traceback (most recent call last)",
      "Cell \u001b[1;32mIn [7], line 2\u001b[0m\n\u001b[0;32m      1\u001b[0m \u001b[39m# Find goal function\u001b[39;00m\n\u001b[1;32m----> 2\u001b[0m _, _, filt_img \u001b[39m=\u001b[39m vision\u001b[39m.\u001b[39mcolorFilter(rescMap,vision\u001b[39m.\u001b[39mRED_L,vision\u001b[39m.\u001b[39mRED_H)\n\u001b[0;32m      3\u001b[0m goal_gray \u001b[39m=\u001b[39m cv2\u001b[39m.\u001b[39mcvtColor(filt_img, cv2\u001b[39m.\u001b[39mCOLOR_BGR2GRAY)\n\u001b[0;32m      4\u001b[0m goal_binary \u001b[39m=\u001b[39m cv2\u001b[39m.\u001b[39mthreshold(goal_gray, \u001b[39m20\u001b[39m, \u001b[39m255\u001b[39m, cv2\u001b[39m.\u001b[39mTHRESH_BINARY_INV)[\u001b[39m1\u001b[39m]\n",
      "\u001b[1;31mNameError\u001b[0m: name 'vision' is not defined"
     ]
    }
   ],
   "source": [
    "# Find goal function\n",
    "_, _, filt_img = vision.colorFilter(rescMap,vision.RED_L,vision.RED_H)\n",
    "goal_gray = cv2.cvtColor(filt_img, cv2.COLOR_BGR2GRAY)\n",
    "goal_binary = cv2.threshold(goal_gray, 20, 255, cv2.THRESH_BINARY_INV)[1]\n",
    "goal_binary = cv2.GaussianBlur(goal_binary, (5,5), 5,5)\n",
    "contours, _ = cv2.findContours(goal_binary.astype(np.uint8), cv2.RETR_TREE, cv2.CHAIN_APPROX_SIMPLE)\n",
    "# Get the moments (the external frame is taken as one)\n",
    "mu = [None]*len(contours)\n",
    "for i in range(len(contours)):\n",
    "    mu[i] = cv2.moments(contours[i])\n",
    "# Get the mass centers\n",
    "mc = [None]*len(contours)\n",
    "for i in range(len(contours)):\n",
    "    # add 1e-5 to avoid division by zero\n",
    "    mc[i] = (mu[i]['m10'] / (mu[i]['m00'] + 1e-5), mu[i]['m01'] / (mu[i]['m00'] + 1e-5))\n",
    "\n",
    "# take second one since frame is the first\n",
    "goal_coords = [mc[1][0],mc[1][1]]\n",
    "\n",
    "circle_goal = plt.Circle(goal_coords, 20, color='r', fill=False)\n",
    "\n",
    "fig, (ax1, ax2) = plt.subplots(1,2, figsize = (8,6))\n",
    "ax2.imshow(rescMap[:,:,::-1])\n",
    "ax1.imshow(goal_binary, cmap='gray')\n",
    "ax2.add_patch(circle_goal)\n",
    "ax1.set_title('Color filtered and binarized image')\n",
    "ax2.set_title('Goal detected')"
   ]
  },
  {
   "cell_type": "markdown",
   "metadata": {},
   "source": [
    "### Find obstacles coordinates\n",
    "Again the rescaled image is first filtered with color filter and then binarized. The contours of the obstacles are then exctracted using the findContours function and approximate via approxPolyDP. Since the corners of the obstacles are the input for the path planning algorithm, the obstacles must be expanded at least by the half of the thymio size. This is done by finding the bissector of each edge and placing the new corner along its direction. In case of a rectangular obstacle, the point should be placed at about 0.7 x the thymio width. To have some margin, it was decided to place it one thymio width away from the real corner. Since the obstacles can intercept after drawing the new expanded contours, a solution proposed here : https://stackoverflow.com/questions/70222415/opencv-how-to-merge-near-contours-to-get-the-one-big-outest-contour , was used to get the big outest contour of the obstacles which merged. The corners are then again found using approxPolyDP. The results can be shown by running the next cell.\n",
    "\t "
   ]
  },
  {
   "cell_type": "code",
   "execution_count": 8,
   "metadata": {},
   "outputs": [
    {
     "ename": "NameError",
     "evalue": "name 'vision' is not defined",
     "output_type": "error",
     "traceback": [
      "\u001b[1;31m---------------------------------------------------------------------------\u001b[0m",
      "\u001b[1;31mNameError\u001b[0m                                 Traceback (most recent call last)",
      "Cell \u001b[1;32mIn [8], line 3\u001b[0m\n\u001b[0;32m      1\u001b[0m \u001b[39m# Find obstacles function\u001b[39;00m\n\u001b[1;32m----> 3\u001b[0m hsv, mask, filt_img \u001b[39m=\u001b[39m vision\u001b[39m.\u001b[39mcolorFilter(rescMap,vision\u001b[39m.\u001b[39mBLUE_L,vision\u001b[39m.\u001b[39mBLUE_H)\n\u001b[0;32m      4\u001b[0m obst_gray \u001b[39m=\u001b[39m cv2\u001b[39m.\u001b[39mcvtColor(filt_img, cv2\u001b[39m.\u001b[39mCOLOR_BGR2GRAY)\n\u001b[0;32m      5\u001b[0m _, binary_img \u001b[39m=\u001b[39m cv2\u001b[39m.\u001b[39mthreshold(obst_gray, \u001b[39m20\u001b[39m, \u001b[39m10\u001b[39m, cv2\u001b[39m.\u001b[39mTHRESH_BINARY)\n",
      "\u001b[1;31mNameError\u001b[0m: name 'vision' is not defined"
     ]
    }
   ],
   "source": [
    "# Find obstacles function\n",
    "\n",
    "hsv, mask, filt_img = vision.colorFilter(rescMap,vision.BLUE_L,vision.BLUE_H)\n",
    "obst_gray = cv2.cvtColor(filt_img, cv2.COLOR_BGR2GRAY)\n",
    "_, binary_img = cv2.threshold(obst_gray, 20, 10, cv2.THRESH_BINARY)\n",
    "# find contours of obstacles\n",
    "contours, _ = cv2.findContours(binary_img.astype(np.uint8), cv2.RETR_TREE, cv2.CHAIN_APPROX_SIMPLE)\n",
    "approx_array = []\n",
    "# approximate the contour with approxPolyDP\n",
    "for cnt in contours:\n",
    "        approx = cv2.approxPolyDP(cnt, 0.03 * cv2.arcLength(cnt, True), True)\n",
    "        area = cv2.contourArea(approx) # keep only the obstacles that have expected area (if filter would have a problem)\n",
    "        if 3000 < area < 20000:\n",
    "            approx_array.append(approx.reshape(-1, 2))\n",
    "    \n",
    "# Expand the contours\n",
    "exp_cnt = np.copy(approx_array)\n",
    "for i, cnt in enumerate(approx_array): # loop over obstacles\n",
    "    for j, corner in enumerate(cnt): # loop over corners of obstacle\n",
    "        e1 = cnt[(j-1)%cnt.shape[0]]-corner # find neighbors e1 and e2\n",
    "        e2 = cnt[(j+1)%cnt.shape[0]]-corner\n",
    "        bisector = (e1 / np.linalg.norm(e1) + e2 / np.linalg.norm(e2))\n",
    "        exp_cnt[i][j] = corner - (vision.pix_per_mm*vision.THYMIO_WIDTH) * bisector / np.linalg.norm(bisector)\n",
    "\n",
    "exp_img = cv2.drawContours(binary_img.copy(), exp_cnt, -1, 255, thickness=cv2.FILLED)\n",
    "# Merge obstacles that intersects\n",
    "h, w = exp_img.shape[:2]\n",
    "mask = np.zeros((h+2, w+2), np.uint8)\n",
    "cv2.floodFill(exp_img, mask, (0,0), 123)\n",
    "exp_img = cv2.inRange(exp_img, 122, 124)\n",
    "exp_img = cv2.bitwise_not(exp_img)\n",
    "# https://stackoverflow.com/questions/70222415/opencv-how-to-merge-near-contours-to-get-the-one-big-outest-contour\n",
    "contours_exp, _ = cv2.findContours(exp_img.astype(np.uint8), cv2.RETR_TREE, cv2.CHAIN_APPROX_SIMPLE)\n",
    "approx_array_exp = []\n",
    "# Re-approximate the polygones\n",
    "for cnt in contours_exp:\n",
    "    approx = cv2.approxPolyDP(cnt, 0.03 * cv2.arcLength(cnt, True), True)\n",
    "    area = cv2.contourArea(approx)\n",
    "    if 3000 < area < 80000:\n",
    "        approx_array_exp.append(approx.reshape(-1, 2))\n",
    "\n",
    "\n",
    "exp_img_app = cv2.drawContours(exp_img.copy(), approx_array_exp, -1, 255, thickness=cv2.FILLED)\n",
    "\n",
    "fig, (ax1, ax2, ax3) = plt.subplots(1,3, figsize = (15,8))\n",
    "ax1.imshow(rescMap[:,:,::-1])\n",
    "ax2.imshow(binary_img, cmap='gray')\n",
    "ax3.imshow(exp_img, cmap='gray')\n",
    "ax1.set_title('Raw image')\n",
    "ax2.set_title('Image after filtering')\n",
    "ax3.set_title('Obstacles after expansion and merging')\n"
   ]
  },
  {
   "cell_type": "markdown",
   "metadata": {},
   "source": [
    "### Find Thymio\n",
    "As for the obstacles and the goal, color filtering is first used to isolate the Thymio. Two green circles (a small one at the front and a bog one and the level of the wheel) are taped on the Thymio. By finding both circles, it is then possible two first extract the position of the Thymio at the wheel, i.e the big circle, and then by constructing a vector from the big circle to the big circle, it is possible to compute the angle of the Thymio. Blob detection was used to extract both circle center and differentiate one from the other. The code below shows the results."
   ]
  },
  {
   "cell_type": "code",
   "execution_count": 9,
   "metadata": {
    "scrolled": true
   },
   "outputs": [
    {
     "ename": "NameError",
     "evalue": "name 'vision' is not defined",
     "output_type": "error",
     "traceback": [
      "\u001b[1;31m---------------------------------------------------------------------------\u001b[0m",
      "\u001b[1;31mNameError\u001b[0m                                 Traceback (most recent call last)",
      "Cell \u001b[1;32mIn [9], line 3\u001b[0m\n\u001b[0;32m      1\u001b[0m \u001b[39m# Find thymio function\u001b[39;00m\n\u001b[1;32m----> 3\u001b[0m _, _, thymio \u001b[39m=\u001b[39m vision\u001b[39m.\u001b[39mcolorFilter(rescMap, vision\u001b[39m.\u001b[39mGREEN_L, vision\u001b[39m.\u001b[39mGREEN_H)\n\u001b[0;32m      4\u001b[0m thymio_gray \u001b[39m=\u001b[39m cv2\u001b[39m.\u001b[39mcvtColor(thymio, cv2\u001b[39m.\u001b[39mCOLOR_BGR2GRAY)\n\u001b[0;32m      5\u001b[0m thymio_gray \u001b[39m=\u001b[39m cv2\u001b[39m.\u001b[39mGaussianBlur(thymio_gray, (\u001b[39m9\u001b[39m,\u001b[39m9\u001b[39m), \u001b[39m5\u001b[39m,\u001b[39m5\u001b[39m)\n",
      "\u001b[1;31mNameError\u001b[0m: name 'vision' is not defined"
     ]
    }
   ],
   "source": [
    "# Find thymio function\n",
    "\n",
    "_, _, thymio = vision.colorFilter(rescMap, vision.GREEN_L, vision.GREEN_H)\n",
    "thymio_gray = cv2.cvtColor(thymio, cv2.COLOR_BGR2GRAY)\n",
    "thymio_gray = cv2.GaussianBlur(thymio_gray, (9,9), 5,5)\n",
    "# Set up the blob detector \n",
    "params = cv2.SimpleBlobDetector_Params()\n",
    "params.filterByColor = False\n",
    "params.minThreshold = 100\n",
    "params.maxThreshold = 255\n",
    "params.filterByArea = True\n",
    "params.minArea = 70\n",
    "params.filterByCircularity = True\n",
    "params.minCircularity = 0.6\n",
    "detector = cv2.SimpleBlobDetector_create(params)\n",
    "\n",
    "# Detect blobs.\n",
    "keypoints = detector.detect(thymio_gray)\n",
    "# Make sure only two rounds were found. If not --> vision failed and make position and angle nan\n",
    "if len(keypoints) != 2:\n",
    "    posX = np.nan\n",
    "    posY = np.nan\n",
    "    angle = np.nan\n",
    "else:\n",
    "    pts = cv2.KeyPoint_convert(keypoints)\n",
    "    if keypoints[0].size > keypoints[1].size:\n",
    "        [posX, posY] = pts[0] # Big round coordinates\n",
    "        [SRx, SRy] = pts[1] # Small round coordinates\n",
    "        dx = SRx-posX\n",
    "        dy = -(SRy-posY)\n",
    "        angle = m.atan2(dy,dx)\n",
    "    else:\n",
    "        [posX, posY] = pts[1]\n",
    "        [SRx, SRy] = pts[0]\n",
    "        dx = SRx-posX\n",
    "        dy = -(SRy-posY)\n",
    "        angle = m.atan2(dy,dx)\n",
    "pos = [posX,posY]\n",
    "\n",
    "circle_BR = plt.Circle(pos, 20, color='g', fill=False, linewidth=3)\n",
    "fig, (ax1,ax2) = plt.subplots(1,2, figsize = (10,8))\n",
    "ax1.imshow(rescMap[:,:,::-1])\n",
    "ax2.imshow(thymio_gray, cmap='gray')\n",
    "ax1.arrow(pos[0], pos[1], 60*m.cos(angle), - 60*m.sin(angle), width = 5.0, ec = 'green')\n",
    "ax1.add_patch(circle_BR)\n",
    "ax1.set_title('Raw image with detected Thymio')\n",
    "ax2.set_title('Image after filtering')"
   ]
  },
  {
   "cell_type": "markdown",
   "metadata": {},
   "source": [
    "## Putting it all together\n",
    "As written previously, the vision is first used to initialize the map and send all the coordinates needed for the path planning. Once Thymio is running, the vision is used in support to the odometry to estimate the position of the Thymio. Two principal functions using the function presented above were therefore implemented. The first one, dedicated to the initialisation of the map can be called from the main during initialisation and return all the data needed. Once the thymio is riding, there is no need to recompute the gooal and obstacle position such that the second function only rectify the image and find thymio. Both function can be called in the next two cells."
   ]
  },
  {
   "cell_type": "code",
   "execution_count": 10,
   "metadata": {},
   "outputs": [
    {
     "ename": "ModuleNotFoundError",
     "evalue": "No module named 'cv2'",
     "output_type": "error",
     "traceback": [
      "\u001b[1;31m---------------------------------------------------------------------------\u001b[0m",
      "\u001b[1;31mModuleNotFoundError\u001b[0m                       Traceback (most recent call last)",
      "Cell \u001b[1;32mIn [10], line 1\u001b[0m\n\u001b[1;32m----> 1\u001b[0m \u001b[39mimport\u001b[39;00m \u001b[39mfunction\u001b[39;00m\u001b[39m.\u001b[39;00m\u001b[39mvisualisation\u001b[39;00m \u001b[39mas\u001b[39;00m \u001b[39mvisualisation\u001b[39;00m\n\u001b[0;32m      2\u001b[0m \u001b[39mimport\u001b[39;00m \u001b[39mtime\u001b[39;00m\n\u001b[0;32m      3\u001b[0m shortestpath \u001b[39m=\u001b[39m []\n",
      "File \u001b[1;32mc:\\Users\\robin\\OneDrive\\Documents\\GitHub\\Project_thymio\\function\\visualisation.py:1\u001b[0m\n\u001b[1;32m----> 1\u001b[0m \u001b[39mimport\u001b[39;00m \u001b[39mcv2\u001b[39;00m\n\u001b[0;32m      2\u001b[0m \u001b[39mimport\u001b[39;00m \u001b[39mnumpy\u001b[39;00m \u001b[39mas\u001b[39;00m \u001b[39mnp\u001b[39;00m\n\u001b[0;32m      3\u001b[0m \u001b[39mimport\u001b[39;00m \u001b[39mmath\u001b[39;00m\n",
      "\u001b[1;31mModuleNotFoundError\u001b[0m: No module named 'cv2'"
     ]
    }
   ],
   "source": [
    "import function.visualisation as visualisation\n",
    "import time\n",
    "shortestpath = []\n",
    "rescMap, M, IMGwidth, IMGheight, mapSize, goal_coords, obst_coords, t_coords, t_angle = vision.map_init(img)\n",
    "visualisation.visualisation(rescMap, t_coords[0], t_coords[1], obst_coords, t_angle, shortestpath, goal_coords[0], goal_coords[1])\n",
    "cv2.waitKey(0)\n",
    "cv2.destroyAllWindows()"
   ]
  },
  {
   "cell_type": "code",
   "execution_count": 11,
   "metadata": {},
   "outputs": [
    {
     "ename": "NameError",
     "evalue": "name 'vision' is not defined",
     "output_type": "error",
     "traceback": [
      "\u001b[1;31m---------------------------------------------------------------------------\u001b[0m",
      "\u001b[1;31mNameError\u001b[0m                                 Traceback (most recent call last)",
      "Cell \u001b[1;32mIn [11], line 1\u001b[0m\n\u001b[1;32m----> 1\u001b[0m rescMap, t_coords, t_angle \u001b[39m=\u001b[39m vision\u001b[39m.\u001b[39mupdateThymioPos(img, M, IMGwidth, IMGheight)\n\u001b[0;32m      2\u001b[0m visualisation\u001b[39m.\u001b[39mvisualisation(rescMap, t_coords[\u001b[39m0\u001b[39m], t_coords[\u001b[39m1\u001b[39m], obst_coords, t_angle, shortestpath, goal_coords[\u001b[39m0\u001b[39m], goal_coords[\u001b[39m1\u001b[39m])       \n\u001b[0;32m      3\u001b[0m cv2\u001b[39m.\u001b[39mwaitKey(\u001b[39m0\u001b[39m)\n",
      "\u001b[1;31mNameError\u001b[0m: name 'vision' is not defined"
     ]
    }
   ],
   "source": [
    "rescMap, t_coords, t_angle = vision.updateThymioPos(img, M, IMGwidth, IMGheight)\n",
    "visualisation.visualisation(rescMap, t_coords[0], t_coords[1], obst_coords, t_angle, shortestpath, goal_coords[0], goal_coords[1])       \n",
    "cv2.waitKey(0)\n",
    "cv2.destroyAllWindows()"
   ]
  },
  {
   "cell_type": "markdown",
   "metadata": {},
   "source": [
    "By running the code below, you can test the vision on a few images of a recorded run. Once the initialization is done, you can start the \"fake\" thymio by pressing any key."
   ]
  },
  {
   "cell_type": "code",
   "execution_count": null,
   "metadata": {},
   "outputs": [],
   "source": [
    "# Need this loop when camera is on\n",
    "\n",
    "i = 1\n",
    "d1 = 100\n",
    "d2 = 100\n",
    "while 1:\n",
    "    # Take first picture for init\n",
    "    frame = cv2.imread('img_presentation/vision_run/run_0.png', cv2.IMREAD_COLOR)\n",
    "\n",
    "    # Initialize MAP\n",
    "    rescMap, M, MAPwidth, MAPheight, b_coords, goal_coords, obst_coords, t_coords, t_angle = vision.map_init(frame)\n",
    "    visualisation.visualisation(rescMap, t_coords[0], t_coords[1], obst_coords, t_angle, shortestpath, goal_coords[0], goal_coords[1])\n",
    "    cv2.waitKey(0) # Start the robot\n",
    "    \n",
    "    # Entering main loop (while thymio not in goal region)\n",
    "    while d1 > 20 or d2 > 20:\n",
    "\n",
    "        ########### Update Thymio Position and Angle ############\n",
    "        # Capture new frame\n",
    "\n",
    "        img_name = \"img_presentation/vision_run/run_\" + str(i) +\".png\"\n",
    "        i +=1\n",
    "        frame = cv2.imread(img_name, cv2.IMREAD_COLOR)\n",
    "        ### Find Thymio\n",
    "        rescMap, t_coords, t_angle = vision.updateThymioPos(frame, M, MAPwidth, MAPheight)\n",
    "        visualisation.visualisation(rescMap, t_coords[0], t_coords[1], obst_coords, t_angle, shortestpath, goal_coords[0], goal_coords[1])       \n",
    "\n",
    "        d1 = abs(t_coords[0]-goal_coords[0])\n",
    "        d2 = abs(t_coords[1]-goal_coords[1])\n",
    "        \n",
    "        ########## Filtering should go here ############\n",
    "        time.sleep(0.2)\n",
    "\n",
    "\n",
    "        # Press esc on keyboard to  exit\n",
    "        if cv2.waitKey(1) == 27:\n",
    "            break\n",
    "    break\n",
    "time.sleep(1)\n",
    "cv2.destroyAllWindows()"
   ]
  },
  {
   "attachments": {},
   "cell_type": "markdown",
   "metadata": {},
   "source": [
    "## Global navigation"
   ]
  },
  {
   "cell_type": "markdown",
   "metadata": {},
   "source": [
    "We choosed to use visibility graphs, we then apply a shortest path algorithm on it (A*). To do so a class Global_Navigation is implemented."
   ]
  },
  {
   "cell_type": "code",
   "execution_count": 1,
   "metadata": {},
   "outputs": [
    {
     "ename": "NameError",
     "evalue": "name 'obst_coords' is not defined",
     "output_type": "error",
     "traceback": [
      "\u001b[1;31m---------------------------------------------------------------------------\u001b[0m",
      "\u001b[1;31mNameError\u001b[0m                                 Traceback (most recent call last)",
      "Cell \u001b[1;32mIn [1], line 25\u001b[0m\n\u001b[0;32m     22\u001b[0m         \u001b[39mself\u001b[39m\u001b[39m.\u001b[39mnodes_neigbors\u001b[39m=\u001b[39m{}\n\u001b[0;32m     23\u001b[0m         \u001b[39mself\u001b[39m\u001b[39m.\u001b[39mpath\u001b[39m=\u001b[39m[]\n\u001b[1;32m---> 25\u001b[0m globNav \u001b[39m=\u001b[39mGlobal_Navigation(obst_coords,t_coords,goal_coords,mapSize)\n",
      "\u001b[1;31mNameError\u001b[0m: name 'obst_coords' is not defined"
     ]
    }
   ],
   "source": [
    "class Global_Navigation:\n",
    "    def __init__(self,obstacles_pos,thymio_pos,goal_pos,map_size):            \n",
    "        #convert the obstacle_pos as list of lists of tuples instead list of np.ndarray of tuples for next calculations\n",
    "        self.all_obstacles=[]\n",
    "        for index, obstacle in enumerate(obstacles_pos):\n",
    "            self.all_obstacles.append([])\n",
    "            for point in obstacle:\n",
    "                self.all_obstacles[index].append((point[0],point[1]))\n",
    "            \n",
    "        self.raw_obstacles_pos=obstacles_pos\n",
    "        self.thymio_pos=(thymio_pos[0],thymio_pos[1])\n",
    "        self.goal_pos=(goal_pos[0],goal_pos[1])\n",
    "        self.all_nodes=[]\n",
    "        self.all_nodes.append(self.thymio_pos)\n",
    "        self.all_nodes.append(self.goal_pos)      \n",
    "        for obstacle in self.all_obstacles:\n",
    "            for node in obstacle:\n",
    "                self.all_nodes.append((node[0],node[1]))\n",
    "        \n",
    "        self.max_valx=map_size[0]\n",
    "        self.max_valy=map_size[1]\n",
    "        self.nodes_neigbors={}\n",
    "        self.path=[]\n",
    "        \n",
    "globNav =Global_Navigation(obst_coords,t_coords,goal_coords,mapSize)"
   ]
  },
  {
   "cell_type": "markdown",
   "metadata": {},
   "source": [
    "Objects of this class take as parameters the state of the map: position of the thymio, the goal and the obstacles that have been already virtualy expanded to make sure that the thymio does not collide with obstacles, and the size of the map."
   ]
  },
  {
   "cell_type": "markdown",
   "metadata": {},
   "source": [
    "#### Visibility graph"
   ]
  },
  {
   "attachments": {},
   "cell_type": "markdown",
   "metadata": {},
   "source": [
    "First of all, in order to create visibility graph, we define, position of the thymio, \n",
    "goal and vertices (that are not too closed to the edges of the map) of the obstacles as nodes of the graph."
   ]
  },
  {
   "attachments": {},
   "cell_type": "markdown",
   "metadata": {},
   "source": [
    "Then we construct links between the nodes that are not obstructed by obstacles.\n",
    "To do so we distinct to cases: <br />\n",
    "-create links between nodes that are not vertices of the same obstacle; <br />\n",
    "-create links between nodes that are vertices of the same obstacle. <br />"
   ]
  },
  {
   "cell_type": "markdown",
   "metadata": {},
   "source": [
    "##### Nodes that are not vertices of the same obstacle"
   ]
  },
  {
   "cell_type": "code",
   "execution_count": null,
   "metadata": {},
   "outputs": [],
   "source": [
    "def onSegment(self,p, q, r):\n",
    "    if ( (q[0] <= max(p[0], r[0])) and (q[0] >= min(p[0], r[0])) and \n",
    "           (q[1] <= max(p[1], r[1])) and (q[1] >= min(p[1], r[1]))):\n",
    "        return True\n",
    "    return False\n",
    "\n",
    "Global_Navigation.onSegment = onSegment\n",
    "\n",
    "def orientation(self,p, q, r):\n",
    "    # to find the orientation of an ordered triplet (p,q,r)\n",
    "    # function returns the following values:\n",
    "    # 0 : Collinear points\n",
    "    # 1 : Clockwise points\n",
    "    # 2 : Counterclockwise\n",
    "    val = (float(q[1] - p[1]) * (r[0] - q[0])) - (float(q[0] - p[0]) * (r[1] - q[1]))\n",
    "    if (val > 0):\n",
    "        # Clockwise orientation\n",
    "        return 1\n",
    "    elif (val < 0):\n",
    "        # Counterclockwise orientation\n",
    "        return 2\n",
    "    else:\n",
    "        # Collinear orientation\n",
    "        return 0\n",
    "\n",
    "Global_Navigation.orientation = orientation\n",
    "  \n",
    "def doIntersect(self,p1,q1,p2,q2):\n",
    "\n",
    "    # Find the 4 orientations required for \n",
    "    # the general and special cases\n",
    "    o1 = self.orientation(p1, q1, p2)\n",
    "    o2 = self.orientation(p1, q1, q2)\n",
    "    o3 = self.orientation(p2, q2, p1)\n",
    "    o4 = self.orientation(p2, q2, q1)\n",
    "\n",
    "    # General case\n",
    "    if ((o1 != o2) and (o3 != o4)):\n",
    "        return True\n",
    "    # Special Cases\n",
    "\n",
    "    # p1 , q1 and p2 are collinear and p2 lies on segment p1q1\n",
    "    if ((o1 == 0) and self.onSegment(p1, p2, q1)):\n",
    "        return True\n",
    "\n",
    "    # p1 , q1 and q2 are collinear and q2 lies on segment p1q1\n",
    "    if ((o2 == 0) and self.onSegment(p1, q2, q1)):\n",
    "        return True\n",
    "\n",
    "    # p2 , q2 and p1 are collinear and p1 lies on segment p2q2\n",
    "    if ((o3 == 0) and self.onSegment(p2, p1, q2)):\n",
    "        return True\n",
    "\n",
    "    # p2 , q2 and q1 are collinear and q1 lies on segment p2q2\n",
    "    if ((o4 == 0) and self.onSegment(p2, q1, q2)):\n",
    "        return True\n",
    "\n",
    "    # If none of the cases\n",
    "    return False\n",
    "\n",
    "Global_Navigation.doIntersect = doIntersect"
   ]
  },
  {
   "cell_type": "markdown",
   "metadata": {},
   "source": [
    "For each pair of two nodes we look if any edges of every obstacles obstruct the creation a link between the nodes of this pair.\n",
    "To do so in the implementation of this algorithm, the use the code for segments intersection detection of geeksforgeeks https://www.geeksforgeeks.org/check-if-two-given-line-segments-intersect/ , that rely on the orientations of three given points in a certain order. If there is any intersection, any link is created, and we look for the feasibility of a link between the next pair of nodes."
   ]
  },
  {
   "cell_type": "markdown",
   "metadata": {},
   "source": [
    "##### Nodes that are vertices of the same obstacle"
   ]
  },
  {
   "cell_type": "markdown",
   "metadata": {},
   "source": [
    "For nodes that are vertices of the same obstacle, looking at intersections does not work as we can see in the following example:"
   ]
  },
  {
   "attachments": {},
   "cell_type": "markdown",
   "metadata": {},
   "source": [
    "<img src=\"img_presentation/imageglobnav1.png\" width=\"300\"/>"
   ]
  },
  {
   "cell_type": "markdown",
   "metadata": {},
   "source": [
    "We can see on the figure above that the segment formed with the two nodes specified by the red circles has no intersection with any other segment, however the thymio obviously can't travel from one to the other because the obstacle is between them, hence the need of using an other method for this case."
   ]
  },
  {
   "cell_type": "markdown",
   "metadata": {},
   "source": [
    "![second image global nav](img_presentation/imageglobnav2.png)"
   ]
  },
  {
   "attachments": {},
   "cell_type": "markdown",
   "metadata": {},
   "source": [
    "The figure above all the possibles orientations of: <br />\n",
    "-the node 1, the node 2, and the node before the node 1 in the list of the obstacle (the vertices of the obstacle are sorted in the corresponding so their index are following the exterior contour in a \"counter-clockwise\" fashion)  <br />\n",
    "-the node 1, the node 2, and the node after the node 1 in the list of the obstacle  <br />\n",
    "-the node 1, the node after the node 1 in the list of the obstacle, and the node before the node 1 in the list of the obstacle <br />\n",
    "\n",
    "(Note that we can define node 1 and node 2 interchangeably, it doesn't matter they are just the nodes of the paire of nodes that we want to check the feasibility of creating a link). <br />\n",
    "\n",
    "On the figure above we can easily deduce the combination of the three orientations leading to the unfeasibility of creating a link for the pair of nodes (the obstacle is between the two nodes) corresponding of the 4 cases of the first line in the figure above, that is implemented inside the following function \"find_neighbors\".\n",
    "\n",
    "We only have to look to the orientation between the gray line and the direct neighbor vertices, because if we are in the cases of the second line in the figure above, and if it happens that further edges cross the gray line, this will be detected by the segments intersection function previously seen, thus no lines link between the pair of nodes will be created. In the cases where some of the 3 orientations we look happened to be colinear, it will also be handled by the segment intersections function."
   ]
  },
  {
   "cell_type": "code",
   "execution_count": null,
   "metadata": {},
   "outputs": [],
   "source": [
    "def find_neighbors(self,all_obstacles,all_nodes,pos_thymio,goal):\n",
    "\n",
    "\n",
    "    neighbors = {node: [] for node in all_nodes}\n",
    "\n",
    "\n",
    "    #if the nodes of obstacles are too close from the edges of the maps, don't add them to the visiblity graph\n",
    "    nodes_close_edges=[]\n",
    "    for obstacle in all_obstacles:\n",
    "        for node in obstacle:\n",
    "            if (node[0]< 38) or (node[0]> self.max_valx-38) or (node[1]<38) or (node[1]>self.max_valy-38):\n",
    "                nodes_close_edges.append(node)\n",
    "                \n",
    "    for i in range(len(all_nodes)): \n",
    "        if all_nodes[i] in nodes_close_edges:\n",
    "            continue\n",
    "        for j in range(len(all_nodes) - i - 1):\n",
    "\n",
    "            intersection=False\n",
    "\n",
    "            if all_nodes[i+j+1] in nodes_close_edges:\n",
    "                continue\n",
    "\n",
    "            tmp_link1=[all_nodes[i],all_nodes[i+j+1]]\n",
    "\n",
    "            for obstacle in all_obstacles:\n",
    "\n",
    "                #identify when 2 vertices of the same polygon are connected\n",
    "                if (all_nodes[i] in obstacle) and (all_nodes[i+j+1] in obstacle): \n",
    "                    if obstacle.index(all_nodes[i])==len(obstacle)-1:\n",
    "                        if (obstacle.index(all_nodes[i+j+1]) != 0) and (obstacle.index(all_nodes[i])!=obstacle.index(all_nodes[i+j+1])+1):\n",
    "                            o1=self.orientation(all_nodes[i],all_nodes[i+j+1],obstacle[obstacle.index(all_nodes[i])-1])\n",
    "                            o2=self.orientation(all_nodes[i],all_nodes[i+j+1],obstacle[0])\n",
    "                            o3=self.orientation(all_nodes[i],obstacle[0],obstacle[obstacle.index(all_nodes[i])-1])\n",
    "                            if (o1==1 and o2==2)or (o1==o2 and o3==2):\n",
    "                                intersection=True\n",
    "                                break\n",
    "                    elif obstacle.index(all_nodes[i])==0:\n",
    "                        if (obstacle.index(all_nodes[i+j+1]) != len(obstacle)-1) and (obstacle.index(all_nodes[i+j+1]) != obstacle.index(all_nodes[i])+1):\n",
    "                            o1=self.orientation(all_nodes[i],all_nodes[i+j+1],obstacle[len(obstacle)-1])\n",
    "                            o2=self.orientation(all_nodes[i],all_nodes[i+j+1],obstacle[obstacle.index(all_nodes[i])+1])\n",
    "                            o3=self.orientation(all_nodes[i],obstacle[obstacle.index(all_nodes[i])+1],obstacle[len(obstacle)-1])\n",
    "                            if (o1==1 and o2==2)or (o1==o2 and o3==2):\n",
    "                                intersection=True\n",
    "                                break\n",
    "                    else:\n",
    "                        if (obstacle.index(all_nodes[i])!=obstacle.index(all_nodes[i+j+1])+1) and (obstacle.index(all_nodes[i+j+1]) != obstacle.index(all_nodes[i])+1):\n",
    "                            o1=self.orientation(all_nodes[i],all_nodes[i+j+1],obstacle[obstacle.index(all_nodes[i])-1])\n",
    "                            o2=self.orientation(all_nodes[i],all_nodes[i+j+1],obstacle[obstacle.index(all_nodes[i])+1])\n",
    "                            o3=self.orientation(all_nodes[i],obstacle[obstacle.index(all_nodes[i])+1],obstacle[obstacle.index(all_nodes[i])-1])\n",
    "                            if (o1==1 and o2==2)or (o1==o2 and o3==2):\n",
    "                                intersection=True\n",
    "                                break   \n",
    "\n",
    "                #implement the segment intersection function between the current pair of nodes and all the edges of all the obstacles\n",
    "                for index, vertice in enumerate(obstacle):\n",
    "\n",
    "                    if index== len(obstacle)-1: #last point of the obstacle\n",
    "                        tmp_link2=[(vertice[0],vertice[1]),(obstacle[0][0],obstacle[0][1])]\n",
    "                    else:\n",
    "\n",
    "                        tmp_link2=[(vertice[0],vertice[1]),(obstacle[index+1][0],obstacle[index+1][1])]\n",
    "\n",
    "\n",
    "                    if tmp_link1[0] ==tmp_link2[0] or tmp_link1[0] ==tmp_link2[1] or tmp_link1[1] == tmp_link2[0] or tmp_link1[1] ==tmp_link2[1]:\n",
    "                        continue\n",
    "\n",
    "                    if self.doIntersect(tmp_link1[0],tmp_link1[1],tmp_link2[0],tmp_link2[1]):\n",
    "                        intersection=True\n",
    "                        break\n",
    "\n",
    "                if intersection==True:\n",
    "                    break\n",
    "\n",
    "            if intersection==False:\n",
    "                neighbors[all_nodes[i]].append(all_nodes[i+j+1])\n",
    "                neighbors[all_nodes[i+j+1]].append(all_nodes[i])\n",
    "\n",
    "    return neighbors\n",
    "\n",
    "Global_Navigation.find_neighbors = find_neighbors"
   ]
  },
  {
   "cell_type": "markdown",
   "metadata": {},
   "source": [
    "#### Find the shortest path"
   ]
  },
  {
   "cell_type": "markdown",
   "metadata": {},
   "source": [
    "The A* algorithm is implemented because compared to the dijkstra algorithm it happens to be much faster, need to visit much less nodes of the graph in order to find the right path."
   ]
  },
  {
   "cell_type": "code",
   "execution_count": null,
   "metadata": {},
   "outputs": [],
   "source": [
    "def h_vertices_obstacles(self,coords,goal):\n",
    "    k=[]\n",
    "    for vertex in coords:\n",
    "        k.append(math.dist(vertex,goal))\n",
    "        h = dict(zip(coords, k))\n",
    "    return h\n",
    "\n",
    "Global_Navigation.h_vertices_obstacles = h_vertices_obstacles"
   ]
  },
  {
   "cell_type": "markdown",
   "metadata": {},
   "source": [
    "The function above is in charge of defining the heuristic function as the distance from the nodes of the graph to the goal."
   ]
  },
  {
   "cell_type": "code",
   "execution_count": null,
   "metadata": {},
   "outputs": [],
   "source": [
    "def reconstruct_path(self,cameFrom, current):\n",
    "\n",
    "    total_path = [current] \n",
    "\n",
    "    while current in cameFrom.keys():\n",
    "\n",
    "        total_path.insert(0, cameFrom[current])  \n",
    "        current=cameFrom[current]\n",
    "\n",
    "    return total_path\n",
    "\n",
    "Global_Navigation.reconstruct_path = reconstruct_path"
   ]
  },
  {
   "cell_type": "markdown",
   "metadata": {},
   "source": [
    "The function above return the list of nodes to go to a certain node from the goal, used to get the path to the goal in the A* algorithm "
   ]
  },
  {
   "cell_type": "code",
   "execution_count": null,
   "metadata": {},
   "outputs": [],
   "source": [
    "def A_Star(self,start, goal, h_vertices_obstacles, coords, nodes_neigbors,max_valx,max_valy):\n",
    "\n",
    "\n",
    "    for point in [start, goal]:\n",
    "        assert point[0]>=0 and point[0]<max_valx and point[1]>=0 and point[1]<max_valy ,\"start or end goal not contained in the map\"\n",
    "\n",
    "\n",
    "    openSet = [start]\n",
    "\n",
    "    closedSet = []\n",
    "\n",
    "    cameFrom = dict()\n",
    "\n",
    "    gScore = dict(zip(coords, [np.inf for x in range(len(coords))])) \n",
    "    gScore[start] = 0 \n",
    "\n",
    "    fScore = dict(zip(coords, [np.inf for x in range(len(coords))]))\n",
    "    fScore[start] = math.dist(goal,start)\n",
    "\n",
    "\n",
    "\n",
    "    while openSet != []: \n",
    "        fScore_openSet = {key:val for (key,val) in fScore.items() if key in openSet}\n",
    "        current = min(fScore_openSet, key=fScore_openSet.get)\n",
    "        del fScore_openSet \n",
    "\n",
    "        if current == goal:\n",
    "            return self.reconstruct_path(cameFrom, current)\n",
    "\n",
    "        openSet.remove(current)\n",
    "        closedSet.append(current)\n",
    "\n",
    "        for neighbor in nodes_neigbors[current]: \n",
    "\n",
    "\n",
    "            if (neighbor in closedSet): \n",
    "                continue\n",
    "\n",
    "\n",
    "            tentative_gScore = gScore[current] + math.dist(current,neighbor) \n",
    "\n",
    "            if neighbor not in openSet:\n",
    "                openSet.append(neighbor) \n",
    "\n",
    "            if tentative_gScore < gScore[neighbor]:\n",
    "                cameFrom[neighbor] = current\n",
    "                gScore[neighbor] = tentative_gScore\n",
    "                fScore[neighbor] = gScore[neighbor] + h_vertices_obstacles[neighbor]\n",
    "\n",
    "\n",
    "    print(\"No path found to goal\")\n",
    "    return [], closedSet\n",
    "\n",
    "Global_Navigation.A_Star = A_Star"
   ]
  },
  {
   "cell_type": "markdown",
   "metadata": {},
   "source": [
    "The A* is implemented in the function above, the weight to travel from one node to an otheris is the distance between these two nodes"
   ]
  },
  {
   "cell_type": "code",
   "execution_count": null,
   "metadata": {},
   "outputs": [],
   "source": [
    "def create_path(self):           \n",
    "    self.nodes_neigbors=self.find_neighbors(self.all_obstacles,self.all_nodes,self.thymio_pos,self.goal_pos)\n",
    "\n",
    "    self.path=self.A_Star(self.thymio_pos, self.goal_pos, self.h_vertices_obstacles(self.all_nodes,self.goal_pos), self.all_nodes,self.nodes_neigbors ,self.max_valx,self.max_valy)\n",
    "    return self.path\n",
    "\n",
    "Global_Navigation.create_path = create_path\n",
    "globNav.create_path()"
   ]
  },
  {
   "cell_type": "markdown",
   "metadata": {},
   "source": [
    "The function above is the one used to obtaine the shortest path after having inialized an object of the class Global_Navigation."
   ]
  },
  {
   "cell_type": "markdown",
   "metadata": {},
   "source": [
    "#### Plots"
   ]
  },
  {
   "cell_type": "code",
   "execution_count": 12,
   "metadata": {},
   "outputs": [
    {
     "ename": "NameError",
     "evalue": "name 'globNav' is not defined",
     "output_type": "error",
     "traceback": [
      "\u001b[1;31m---------------------------------------------------------------------------\u001b[0m",
      "\u001b[1;31mNameError\u001b[0m                                 Traceback (most recent call last)",
      "Cell \u001b[1;32mIn [12], line 16\u001b[0m\n\u001b[0;32m     13\u001b[0m     plt\u001b[39m.\u001b[39mimshow(image) \n\u001b[0;32m     15\u001b[0m Global_Navigation\u001b[39m.\u001b[39mplot_visibility_graph \u001b[39m=\u001b[39m plot_visibility_graph\n\u001b[1;32m---> 16\u001b[0m globNav\u001b[39m.\u001b[39mplot_visibility_graph()\n",
      "\u001b[1;31mNameError\u001b[0m: name 'globNav' is not defined"
     ]
    }
   ],
   "source": [
    "def plot_visibility_graph(self):\n",
    "    Img=np.zeros((self.max_valy, self.max_valx,3), dtype='uint8')\n",
    "\n",
    "    for obstacle in self.raw_obstacles_pos:\n",
    "        cv2.polylines(Img, [obstacle.reshape((-1, 1, 2))], True, (255,255,0), 5) \n",
    "\n",
    "    cv2.circle(Img, (round(self.goal_pos[0]),round(self.goal_pos[1])), 5, (255, 0, 0), 5)\n",
    "    cv2.circle(Img, (round(self.thymio_pos[0]),round(self.thymio_pos[1])), 5, (0, 0, 255), 5)\n",
    "\n",
    "    for node in self.nodes_neigbors:\n",
    "        for neighbor in self.nodes_neigbors[node]:\n",
    "            image = cv2.line(Img, (round(node[0]),round(node[1])), (round(neighbor[0]),round(neighbor[1])), (100, 100, 255), 2)\n",
    "    plt.imshow(image) \n",
    "    \n",
    "Global_Navigation.plot_visibility_graph = plot_visibility_graph\n",
    "globNav.plot_visibility_graph()"
   ]
  },
  {
   "cell_type": "code",
   "execution_count": null,
   "metadata": {},
   "outputs": [],
   "source": [
    "def plot_shortest_path(self):\n",
    "    Img=np.zeros((self.max_valy, self.max_valx,3), dtype='uint8')\n",
    "    for obstacle in self.raw_obstacles_pos:\n",
    "        image = cv2.polylines(Img, [obstacle.reshape((-1, 1, 2))], True, (255,255,0), 5) \n",
    "    cv2.circle(Img, (round(self.goal_pos[0]),round(self.goal_pos[1])), 5, (255, 0, 0), 5)\n",
    "    cv2.circle(Img, (round(self.thymio_pos[0]),round(self.thymio_pos[1])), 5, (0, 0, 255), 5)\n",
    "\n",
    "    cv2.polylines(Img, np.int32([np.array(self.path).reshape((-1, 1, 2))]), False, (200, 0, 255), 3) \n",
    "\n",
    "    plt.imshow(image)\n",
    "    \n",
    "Global_Navigation.plot_shortest_path = plot_shortest_path\n",
    "globNav.plot_shortest_path()"
   ]
  },
  {
   "cell_type": "markdown",
   "metadata": {},
   "source": [
    "## MOTION CONTROL\n",
    "\n",
    "For the motion control, we used a PID controller that was used to smooth the robot trajectory. This PID controller is working on the angle error between the direction of the robot and the goal direction. A PI controller would have been probabely sufficiant but we decided to use a PID to have more freedom for the tuning.\n",
    "\n",
    "This PID controller is comparing the angle error and give as output a 'rotation' delta speed. This rotation speed will then be add/substated to the left and right motor speed. To have something has bellow:\n",
    "<div>\n",
    "<img src=\"img_presentation/pid_resume.png\" width=\"300\"/>\n",
    "</div>\n",
    "\n",
    "For the computation of the angle error, we need the follwing information:\n",
    "- robot position\n",
    "- angle of the robot\n",
    "- goal position\n",
    "\n",
    "We represent the postion in the classical cartesian coordinates (x,y). The angle of the thymio(alpha) and the angle of the goal(alpha_goal) as 'absolut angle'. The vector (1,0) has the angle 0 (the vector (0,1) as the angle pi/2 etc...). The angle is negative in clockwise direction. The angle error is always represented in the range : [-pi , pi], This way, the PID controller is easy to implement. The image below is presenting the general idea of the PID implementation:\n",
    "\n",
    "<div>\n",
    "<img src=\"img_presentation/PID_details.png\" width=\"500\"/>\n",
    "</div>\n",
    "\n",
    "The motion control part is made in a class of .py file. For further information, go look at the script: functiion.MotionControl.py."
   ]
  },
  {
   "cell_type": "code",
   "execution_count": 1,
   "metadata": {},
   "outputs": [],
   "source": [
    "import function.MotionControl as MotionControl\n",
    "import matplotlib.pyplot as plt\n",
    "import math"
   ]
  },
  {
   "cell_type": "code",
   "execution_count": 21,
   "metadata": {
    "scrolled": true
   },
   "outputs": [
    {
     "data": {
      "image/png": "[encoded data removed]",
      "text/plain": [
       "<Figure size 640x480 with 1 Axes>"
      ]
     },
     "metadata": {},
     "output_type": "display_data"
    }
   ],
   "source": [
    "# Here is an exemple trajectory of the implemetation of the PID without the filtered feedback about the position and angle.\n",
    "# For this exemple, we take only the \n",
    "# Here is an exemple trajectory of the implemetation of the PID without the filtered feedback about the position and angle.\n",
    "# For this exemple, we take only the \n",
    "\n",
    "goals_list = [(1000,1000), (2600,1000),(2800,2800)]\n",
    "n_goal = 0\n",
    "goal_pos = list(goals_list[n_goal])\n",
    "\n",
    "init_robot_angle = 0\n",
    "robot_speed = [100,100]\n",
    "robot_angle = 0\n",
    "robot_pos = [0,0]\n",
    "\n",
    "d_time = 3\n",
    "thymio_trajectory = []\n",
    "\n",
    "# Create PID controller\n",
    "PID = MotionControl.MotionControl()\n",
    "PID.update_angle_error(robot_angle, robot_pos, goals_list[n_goal])\n",
    "# loop\n",
    "loop = 0\n",
    "while True:\n",
    "    loop += 1\n",
    "    goal_achieved = False\n",
    "    # compute error\n",
    "    PID.update_angle_error(robot_angle, robot_pos, goal_pos)\n",
    "    # compute PID speed\n",
    "    [robot_speed[0], robot_speed[1]] = PID.PID(d_time, 100, 100)\n",
    "    # set speed and get new position and angle value\n",
    "    [robot_pos[0], robot_pos[1], robot_angle] = PID.plant(robot_speed[0], robot_speed[1], robot_pos[0], robot_pos[1], robot_angle, d_time)\n",
    "    thymio_trajectory.append((robot_pos[0], robot_pos[1]))\n",
    "    \n",
    "    # Check proximity\n",
    "    dist_to_goal = math.sqrt((robot_pos[0]-goal_pos[0])**2 + (robot_pos[1]-goal_pos[1])**2)\n",
    "    if dist_to_goal < 100 or loop > 300:\n",
    "        n_goal += 1\n",
    "        if n_goal < len(goals_list):\n",
    "            goal_pos = list(goals_list[n_goal])\n",
    "            # reset integral value\n",
    "            PID.PID_integral = 0\n",
    "        else:\n",
    "            break\n",
    "\n",
    "# plot trajectorie\n",
    "ax = plt.gca()\n",
    "ax.invert_yaxis()\n",
    "plt.scatter(*zip(*thymio_trajectory), label='thymio trajectory')\n",
    "\n",
    "# Plot objective 'path'\n",
    "plt.plot([0,goals_list[0][0]], [0,goals_list[0][1]], color = 'red', linestyle = 'solid', label='path')\n",
    "\n",
    "plt.plot([goals_list[0][0],goals_list[1][0]], [goals_list[0][1],goals_list[1][1]], color = 'red', linestyle = 'solid', label=None)\n",
    "plt.plot([goals_list[1][0],goals_list[2][0]], [goals_list[1][1],goals_list[2][1]], color = 'red', linestyle = 'solid', label=None)\n",
    "\n",
    "plt.plot([0,300*math.cos(init_robot_angle)], [0, 300 * math.sin(init_robot_angle)], color = 'green', label='starting angle')\n",
    "\n",
    "plt.legend()\n",
    "plt.title('Thymio PID direction')\n",
    "plt.show()\n",
    "\n"
   ]
  },
  {
   "cell_type": "markdown",
   "metadata": {},
   "source": [
    "# Local Navigation\n",
    "\n",
    "The goal of local navigation is that the Thymio evitate new obstacles put on its path.\n",
    "\n",
    "We decided to use the approach of Artificial Neural Networks (ANN).\n",
    "\n",
    "First a function is used to detect the obstacles using horizontal proximity sensors because new obstacles are in three-dimensions.\n"
   ]
  },
  {
   "cell_type": "code",
   "execution_count": null,
   "metadata": {},
   "outputs": [],
   "source": [
    "def detect_obstacle(self, proximity_sensors, threshold=100):  \n",
    "    self.prox_horizontal = proximity_sensors[0:4] \n",
    "    maxvalue = max(self.prox_horizontal)\n",
    "    if(maxvalue > threshold) : \n",
    "        detect = True\n",
    "    else :\n",
    "        detect = False\n",
    "    return detect\n"
   ]
  },
  {
   "cell_type": "markdown",
   "metadata": {},
   "source": [
    "When horizontal proximity sensors detect an obstacle, we compute the speed of the motors such that the robot turns and is not anymore in front of the obstacle. \n",
    "\n",
    "Articificial Neural Networks is a good approach for that goal because depending on the distance from the obstacle and the values of the proximity sensors it will adapt its rotation speed and time to perform one of the most optimal trajectory to bypass the obstacle.\n",
    "\n",
    "The weight were set experimentally.\n"
   ]
  },
  {
   "cell_type": "code",
   "execution_count": null,
   "metadata": {},
   "outputs": [],
   "source": [
    "def turn_if_obstacle(self, proximity_sensors): \n",
    "    self.prox_horizontal = proximity_sensors[0:4] \n",
    "    w_l = [20,  30, -30, -30, -20]\n",
    "    w_r = [-20, -30, 30,  30,  20]\n",
    "\n",
    "    # Scale factors for sensors \n",
    "    sensor_scale = 400\n",
    "\n",
    "    y = [0,0]\n",
    "    x = [0,0,0,0,0]\n",
    "    \n",
    "\n",
    "    \n",
    "    for i in range(0,len(x)-1):\n",
    "        # Get and scale inputs\n",
    "        x[i] = self.prox_horizontal[i] // sensor_scale\n",
    "        \n",
    "        # Compute outputs of neurons and set motor powers\n",
    "        y[0] = y[0] + x[i] * w_l[i]\n",
    "        y[1] = y[1] + x[i] * w_r[i]    \n",
    "\n",
    "    # Set motor powers\n",
    "    motor_left_target = y[0]\n",
    "    motor_right_target = y[1]\n",
    "\n",
    "    return [motor_left_target,motor_right_target]\n"
   ]
  },
  {
   "cell_type": "markdown",
   "metadata": {},
   "source": [
    "Then the robot follows a curvilinear trajectory in the goal direction. \n",
    "\n",
    "It is done by setting a lower speed for the wheel the closest to the obstacle. \n"
   ]
  },
  {
   "cell_type": "code",
   "execution_count": null,
   "metadata": {},
   "outputs": [],
   "source": [
    "def curvilinear_traj(self, speeds) :\n",
    "    NOMINAL_SPEED = 160\n",
    "    DELTA_SPEED = 60\n",
    "    if(speeds[0]<speeds[1]) :\n",
    "        motor_left_target = NOMINAL_SPEED\n",
    "        motor_right_target = NOMINAL_SPEED - DELTA_SPEED\n",
    "    else :\n",
    "        motor_left_target = NOMINAL_SPEED - DELTA_SPEED\n",
    "        motor_right_target = NOMINAL_SPEED\n",
    "\n",
    "    return [motor_left_target,motor_right_target]"
   ]
  },
  {
   "cell_type": "markdown",
   "metadata": {},
   "source": [
    "When the robot is sufficiently far from the obstacle, it goes back in the main loop, to recompute the new trajectory to go to next point in the path (see section Threading and code organisation)."
   ]
  },
  {
   "cell_type": "markdown",
   "metadata": {},
   "source": [
    "# Threading and code organisation\n",
    "\n",
    "We decided to use a threads for the data aquisition of the thymio. In this way we don't need to wait on the thymio for the information on the thymio speed and the sensors. Thoses computation can be done in parallel so we can compute simultaneously the vison/motioncontrol. \n",
    "\n",
    "The two threads we created are the following ones:\n",
    "- thread_update_odometry \n",
    "- thread_get_sensor\n",
    "\n",
    "The odomerty threads takes the values of the motors speed and compute the relative position/angle of the thymo. It then returns the results in the globa variables ODOMERTY. In this way, this Global variable will be updated and can be reused in other threads for other computation.\n",
    "\n",
    "The get sensor thread is a simplier threads that only read the sensor values and returns it also in a global varaible (PROX_SENSOR). \n",
    "\n",
    "In that way we have 2 global variables that are updated and accecible at anytime.\n",
    "\n",
    "We decided to use threads, because the reading variables for the sensor can take up to 100ms. If we had a all in a simple loop, this would make the whole programm wait for those sensor values.\n",
    "The main thread is the loop in the main file. In this part we are computing the follwing parts: visualisation, filtering and the controller.\n",
    "\n",
    "\n",
    "<div>\n",
    "<img src=\"img_presentation/threads_.png\" width=\"500\"/>\n",
    "</div>\n"
   ]
  },
  {
   "cell_type": "markdown",
   "metadata": {},
   "source": [
    "# Odomerty\n",
    "\n",
    "The odomerty part is a thread in the the following file : function/main.py.\n",
    "\n",
    "\n",
    "As said before, we are computing the updating the odomerty in a threads and the result is saved into a gloval variable. Another thing to notice is that this global variable ODOMERTY is also update after the filtering. This means that this ODOMERTY variable doesn't rely only on the motor speed but is also modified by the vision. With this techinique the error of the odomerty is not incresing across time (it is when the odomertry is running on its own but is adjusted as soon as it goes into the filtering).\n",
    "\n",
    "Now let's look the thread update odomerty into details. The goal here is to estimated the postition of the robot knowing the speed of the right and left motors. For this we made the follwing computation and hypothesis:\n",
    "\n",
    "<div>\n",
    "<img src=\"img_presentation/odometry.png\" width=\"800\" />\n",
    "</div>\n",
    "\n",
    "\n",
    "This computation of the odomerty relies only on speed of the right and left motors. Thus we have an error on the prediction of the postition that comes from the motor speed unperfect values. To correct this error, we will need a filter (for the moment, this error will increase across time because we are basically integrating speed). More inforamtions about this in part 'filtering'"
   ]
  },
  {
   "cell_type": "markdown",
   "metadata": {},
   "source": [
    "# Filtering\n",
    "\n",
    "The filter will help us have a better approximation of the thymio position. For this we will take the position given by the odomerty and the position given by the camera and use a fitler. The filter we are using is inspired by the kalmann filter but is a bit different as the computation for the estimated position is done in the odomerty thread and not in the filter. \n",
    "\n",
    "The filtering is composed of 2 filters. One is making the filering on the position by comparing the one of the odometry with the postiton given by the vision.\n",
    "The second filter is doing the same thing but comparing the angle. Combining these 2 filters give us approximation on all the important variables. \n",
    "\n",
    "Once the filtering has finshed his computation, We gave the new values of the position and angle to the ODOMETRY global variable. This way the ODOMERTY has always the best approximation and the error will not increase across time (To be more precis,the error increase across time until the filtering gives new values. But as the filtering is often computed it's not a problem). With this technique we also solve the problem of kidnapping, meaning that we can move the robot at any place and the odomerty will be updated to track the robot again. Also when the wheels skid we won't loose track of the robot.\n",
    "\n",
    "Here below is a representation of the thymio estimated position before and after the filtering:"
   ]
  },
  {
   "cell_type": "code",
   "execution_count": null,
   "metadata": {},
   "outputs": [
    {
     "data": {
      "text/plain": [
       "array([[ 65.63349917,  65.63349917,  65.63349917, ..., 391.00675674,\n",
       "        391.9058683 , 392.6495354 ],\n",
       "       [320.05721393, 320.05721393, 320.05721393, ..., 219.16560627,\n",
       "        219.38248831, 219.56155774]])"
      ]
     },
     "execution_count": 22,
     "metadata": {},
     "output_type": "execute_result"
    }
   ],
   "source": [
    "# Here we present the estimated postition of the thymio before and after the filtering. For this we have recorded the estimeted postiton of the thymio.\n",
    "import json\n",
    "with open('img_presentation/ODOMETRY.txt', 'r') as f:\n",
    "    LIST_ODO = json.loads(f.read())\n",
    "\n",
    "import numpy as np\n",
    "thymio_traj_points=np.array([np.array(x[0:2]) for x in LIST_ODO])\n",
    "thymio_traj_points = np.transpose(thymio_traj_points)\n",
    "thymio_traj_points"
   ]
  },
  {
   "cell_type": "code",
   "execution_count": null,
   "metadata": {},
   "outputs": [
    {
     "data": {
      "image/png": "[encoded data removed]",
      "text/plain": [
       "<Figure size 432x288 with 1 Axes>"
      ]
     },
     "metadata": {
      "needs_background": "light"
     },
     "output_type": "display_data"
    }
   ],
   "source": [
    "plt.title('Full recorded thymio trajectory')\n",
    "plt.scatter(thymio_traj_points[0],thymio_traj_points[1], color='blue')\n",
    "plt.show()"
   ]
  },
  {
   "cell_type": "code",
   "execution_count": null,
   "metadata": {},
   "outputs": [
    {
     "data": {
      "image/png": "[encoded data removed]",
      "text/plain": [
       "<Figure size 720x288 with 2 Axes>"
      ]
     },
     "metadata": {
      "needs_background": "light"
     },
     "output_type": "display_data"
    }
   ],
   "source": [
    "# here we will highlight the moment the filter is going to recompute the thymio postion\n",
    "plt.figure(1,figsize=(10,4))\n",
    "\n",
    "plt.subplot(121)\n",
    "thymio_traj_points_ = thymio_traj_points[:,130:150]\n",
    "plt.title('Highlighting filtering correction')\n",
    "plt.scatter(thymio_traj_points_[0],thymio_traj_points_[1])\n",
    "\n",
    "plt.subplot(122)\n",
    "thymio_traj_points_ = thymio_traj_points[:,140:148]\n",
    "plt.title('Highlighting filtering correction')\n",
    "plt.scatter(thymio_traj_points_[0],thymio_traj_points_[1])\n",
    "\n",
    "\n",
    "plt.show()\n",
    "\n",
    "# We can see on near the region [137,252] 2 points being close to eachother. \n",
    "# we have here the filtering recomputing a better position for the thymio"
   ]
  },
  {
   "cell_type": "code",
   "execution_count": null,
   "metadata": {},
   "outputs": [
    {
     "data": {
      "image/png": "[encoded data removed]",
      "text/plain": [
       "<Figure size 432x288 with 1 Axes>"
      ]
     },
     "metadata": {
      "needs_background": "light"
     },
     "output_type": "display_data"
    }
   ],
   "source": [
    "# Here is another place where the filtering can be seen\n",
    "thymio_traj_points_ = thymio_traj_points[:,350:400]\n",
    "plt.title('Highlighting filtering correction')\n",
    "plt.scatter(thymio_traj_points_[0],thymio_traj_points_[1])\n",
    "plt.show()\n"
   ]
  },
  {
   "cell_type": "markdown",
   "metadata": {},
   "source": [
    "On the prevous graph we can see some position adjustement due to the filtering.\n",
    "<div>\n",
    "<img src=\"img_presentation/filter_results_2.png\" width=\"400\" />\n",
    "</div>"
   ]
  }
 ],
 "metadata": {
  "kernelspec": {
   "display_name": "Python 3",
   "language": "python",
   "name": "python3"
  },
  "language_info": {
   "codemirror_mode": {
    "name": "ipython",
    "version": 3
   },
   "file_extension": ".py",
   "mimetype": "text/x-python",
   "name": "python",
   "nbconvert_exporter": "python",
   "pygments_lexer": "ipython3",
   "version": "3.10.9"
  },
  "vscode": {
   "interpreter": {
    "hash": "5dcff011584d56f021e905469e8be973e7f8c14dd33d7dbedb64170103f4ac39"
   }
  }
 },
 "nbformat": 4,
 "nbformat_minor": 2
}
